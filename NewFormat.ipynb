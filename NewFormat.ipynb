{
 "cells": [
  {
   "cell_type": "code",
   "execution_count": 1,
   "metadata": {
    "collapsed": true
   },
   "outputs": [],
   "source": [
    "import pandas as pd\n",
    "import json"
   ]
  },
  {
   "cell_type": "code",
   "execution_count": 7,
   "metadata": {
    "collapsed": true
   },
   "outputs": [],
   "source": [
    "def get_worth(match):\n",
    "    radiant_gold_xp = [0,0]\n",
    "    dire_gold_xp = [0,0]\n",
    "    \n",
    "#     get_pick\n",
    "\n",
    "    radiant_pick = []\n",
    "    dire_pick = []\n",
    "    try:    \n",
    "        radiant_players = match[\"scoreboard\"].values[0][\"radiant\"][\"players\"]\n",
    "        dire_players = match[\"scoreboard\"].values[0][\"dire\"][\"players\"]\n",
    "        time = match[\"scoreboard\"].values[0][\"duration\"]\n",
    "        #     print time\n",
    "        for i in radiant_players:\n",
    "            radiant_pick.append(i[\"hero_id\"])\n",
    "            radiant_gold_xp[0]+=i[\"net_worth\"]\n",
    "            radiant_gold_xp[1]+=i[\"xp_per_min\"]*float(time)/60\n",
    "        for i in dire_players:\n",
    "            dire_pick.append(i[\"hero_id\"])\n",
    "            dire_gold_xp[0]+=i[\"net_worth\"]\n",
    "            dire_gold_xp[1]+=i[\"xp_per_min\"]*float(time)/60\n",
    "        radiant_name = match[\"radiant_team\"].values[0][\"team_name\"]\n",
    "        dire_name = match[\"dire_team\"].values[0][\"team_name\"]    \n",
    "\n",
    "        if (dire_name == \"Team Liquid\"):\n",
    "            dire_name =\"Liquid\"\n",
    "        if (dire_name == \"Team Secret\"):\n",
    "            dire_name =\"Secret\"\n",
    "        if (dire_name == \"Evil Geniuses\"):\n",
    "            dire_name =\"EG\"\n",
    "        if (radiant_name == \"Team Liquid\"):\n",
    "            radiant_name =\"Liquid\"\n",
    "        if (radiant_name == \"Team Secret\"):\n",
    "            radiant_name =\"Secret\"\n",
    "        if (radiant_name == \"Evil Geniuses\"):\n",
    "            radiant_name =\"EG\"\n",
    "    except:\n",
    "        return -1\n",
    "    return match[\"match_id\"].values[0],radiant_gold_xp, dire_gold_xp,radiant_pick,dire_pick,radiant_name,dire_name,time"
   ]
  },
  {
   "cell_type": "code",
   "execution_count": 8,
   "metadata": {
    "collapsed": false
   },
   "outputs": [],
   "source": [
    "# XP GOLD PICKS TIME TEAMS\n",
    "def get_XP_GOLD_from_moment(current_match):\n",
    "    return get_worth(current_match)\n",
    "#     print current_match"
   ]
  },
  {
   "cell_type": "code",
   "execution_count": 9,
   "metadata": {
    "collapsed": false
   },
   "outputs": [],
   "source": [
    "def get_information_about_one_match(df,match_id):\n",
    "    current_matches = df[df.match_id == match_id]\n",
    "#     print current_matches\n",
    "    result = []\n",
    "    for i in range (len(current_matches)):\n",
    "#     i = 3\n",
    "        result.append(get_XP_GOLD_from_moment(current_matches[i:i+1]))\n",
    "    return result\n",
    "#     print current_matches[0:1]\n",
    "        "
   ]
  },
  {
   "cell_type": "code",
   "execution_count": 10,
   "metadata": {
    "collapsed": false
   },
   "outputs": [],
   "source": [
    "f = open('shanghai_live_league_games.jsonlines', 'r')\n",
    "alldata = []\n",
    "for line in f:\n",
    "        alldata.append(json.loads(line))\n",
    "df = pd.DataFrame((alldata))"
   ]
  },
  {
   "cell_type": "code",
   "execution_count": 11,
   "metadata": {
    "collapsed": false
   },
   "outputs": [],
   "source": [
    "# get_information_about_one_match(df,2176488482)\n",
    "all_match_ids = df[\"match_id\"].unique()\n",
    "THE_BIGGEST_ARRAY = []\n",
    "for id in all_match_ids:\n",
    "    get = get_information_about_one_match(df,id)\n",
    "    if (get!=-1):\n",
    "        THE_BIGGEST_ARRAY.append(get)\n",
    "#THE_BIGGEST_ARRAY[1]"
   ]
  },
  {
   "cell_type": "code",
   "execution_count": 14,
   "metadata": {
    "collapsed": false
   },
   "outputs": [
    {
     "data": {
      "text/plain": [
       "(2176488482,\n",
       " [3125, 0.0],\n",
       " [3125, 0.0],\n",
       " [0, 0, 0, 0, 0],\n",
       " [0, 0, 0, 0, 0],\n",
       " 'Secret',\n",
       " u'CDEC Gaming',\n",
       " 0.0)"
      ]
     },
     "execution_count": 14,
     "metadata": {},
     "output_type": "execute_result"
    }
   ],
   "source": [
    "THE_BIGGEST_ARRAY[0][0]"
   ]
  },
  {
   "cell_type": "code",
   "execution_count": null,
   "metadata": {
    "collapsed": true
   },
   "outputs": [],
   "source": []
  }
 ],
 "metadata": {
  "kernelspec": {
   "display_name": "Python 2",
   "language": "python",
   "name": "python2"
  },
  "language_info": {
   "codemirror_mode": {
    "name": "ipython",
    "version": 2
   },
   "file_extension": ".py",
   "mimetype": "text/x-python",
   "name": "python",
   "nbconvert_exporter": "python",
   "pygments_lexer": "ipython2",
   "version": "2.7.11"
  }
 },
 "nbformat": 4,
 "nbformat_minor": 0
}
