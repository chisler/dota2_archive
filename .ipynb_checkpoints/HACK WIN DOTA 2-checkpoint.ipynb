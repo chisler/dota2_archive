{
 "cells": [
  {
   "cell_type": "code",
   "execution_count": 1,
   "metadata": {
    "collapsed": true
   },
   "outputs": [],
   "source": [
    "import pandas as pd\n",
    "import numpy as np\n",
    "import matplotlib.pyplot as plt\n",
    "import json\n",
    "\n",
    "from sklearn import linear_model\n",
    "from sklearn import neighbors\n",
    "from sklearn import svm as svm_classifier\n",
    "from sklearn.metrics import make_scorer\n",
    "from sklearn.externals import joblib\n",
    "\n",
    "from trueskill import BETA\n",
    "from math import sqrt\n",
    "from trueskill.backends import cdf"
   ]
  },
  {
   "cell_type": "code",
   "execution_count": 37,
   "metadata": {
    "collapsed": false
   },
   "outputs": [],
   "source": [
    "rank = pd.read_csv('rank_.csv')\n",
    "\n",
    "svm = joblib.load('./ready_models/svm_picks_rates.pkl')\n",
    "logreg = joblib.load('./ready_models/logreg_picks_rates.pkl')\n",
    "\n",
    "wins = pd.read_csv('match_results.csv')\n",
    "\n",
    "fin_model = joblib.load('./ready_models/fin.pkl')"
   ]
  },
  {
   "cell_type": "code",
   "execution_count": 3,
   "metadata": {
    "collapsed": true
   },
   "outputs": [],
   "source": [
    "def encodeHeroes(radiant_pick, dire_pick):\n",
    "    onehotheroes = np.zeros(228)\n",
    "    for hero in radiant_pick:\n",
    "        if hero != 0:\n",
    "            onehotheroes[hero] = 1\n",
    "    for hero in dire_pick:\n",
    "        if hero != 0:\n",
    "            onehotheroes[hero + 114] = 1\n",
    "    return onehotheroes"
   ]
  },
  {
   "cell_type": "code",
   "execution_count": 4,
   "metadata": {
    "collapsed": true
   },
   "outputs": [],
   "source": [
    "def scoreFunc(y, y_pred):\n",
    "    if y == 1: \n",
    "        if np.log2(y_pred) < -5:\n",
    "            return -5\n",
    "        return np.log2(y_pred) + 1\n",
    "    else:\n",
    "        if np.log2(1 - y_pred) < -5:\n",
    "            return -5\n",
    "        return np.log2(1 - y_pred) + 1\n",
    "log_score = make_scorer(scoreFunc)"
   ]
  },
  {
   "cell_type": "code",
   "execution_count": 5,
   "metadata": {
    "collapsed": true
   },
   "outputs": [],
   "source": [
    "poly_and_rates = pd.read_csv('TimeWinRatesPoly.csv')\n",
    "polies = [[] for i in range(115)]\n",
    "for index, line in poly_and_rates.iterrows():\n",
    "    \n",
    "    pol = [line[6], line[7], line[8], line[9]]\n",
    "    polies[int(line[1])] = np.poly1d(pol)\n",
    "    \n",
    "def calcTeamWinRate(time, pick, polies):\n",
    "    rates = [polies[i](time) for i in pick]\n",
    "    return sum(rates)"
   ]
  },
  {
   "cell_type": "code",
   "execution_count": 266,
   "metadata": {
    "collapsed": true
   },
   "outputs": [],
   "source": [
    "def get_worth(match):\n",
    "    radiant_gold_xp = [0,0]\n",
    "    dire_gold_xp = [0,0]\n",
    "    \n",
    "#     get_pick\n",
    "\n",
    "    radiant_pick = []\n",
    "    dire_pick = []    \n",
    "    dire_barracks_status = bin(match['scoreboard']['dire']['barracks_state'])[2:]\n",
    "    radiant_barracks_status = bin(match['scoreboard']['radiant']['barracks_state'])[2:]\n",
    "    \n",
    "    \n",
    "    dire_barracks = 0\n",
    "    for barr in dire_barracks_status:\n",
    "        if barr == '1':\n",
    "            dire_barracks +=1\n",
    "    \n",
    "    radiant_barracks = 0\n",
    "    for barr in radiant_barracks_status:\n",
    "        if barr == '1':\n",
    "            radiant_barracks +=1\n",
    "\n",
    "            \n",
    "    radiant_players = match[\"scoreboard\"][\"radiant\"][\"players\"]\n",
    "    dire_players = match[\"scoreboard\"][\"dire\"][\"players\"]\n",
    "    time = match[\"scoreboard\"][\"duration\"]\n",
    "        #     print time\n",
    "    for i in radiant_players:\n",
    "        radiant_pick.append(i[\"hero_id\"])\n",
    "        radiant_gold_xp[0]+=i[\"net_worth\"]\n",
    "        radiant_gold_xp[1]+=i[\"xp_per_min\"]*float(time)/60\n",
    "    for i in dire_players:\n",
    "        dire_pick.append(i[\"hero_id\"])\n",
    "        dire_gold_xp[0]+=i[\"net_worth\"]\n",
    "        dire_gold_xp[1]+=i[\"xp_per_min\"]*float(time)/60\n",
    "    radiant_name = match[\"radiant_team\"][\"team_name\"]\n",
    "    dire_name = match[\"dire_team\"][\"team_name\"]    \n",
    "\n",
    "    return match[\"match_id\"] ,radiant_gold_xp, dire_gold_xp,radiant_pick,dire_pick,radiant_name,dire_name,radiant_barracks,dire_barracks,time"
   ]
  },
  {
   "cell_type": "code",
   "execution_count": 7,
   "metadata": {
    "collapsed": true
   },
   "outputs": [],
   "source": [
    "# we get json\n",
    "\n",
    "alldata = json.loads(json_response)\n",
    "\n",
    "df2 = pd.DataFrame((alldata))\n",
    "get_worth(df2)\n",
    "# transform to df\n",
    "# upload data from it"
   ]
  },
  {
   "cell_type": "code",
   "execution_count": 8,
   "metadata": {
    "collapsed": true
   },
   "outputs": [],
   "source": []
  },
  {
   "cell_type": "code",
   "execution_count": 9,
   "metadata": {
    "collapsed": true
   },
   "outputs": [],
   "source": [
    "def win_probability(player_rating_mu, player_rating_sigma, opponent_rating_mu, opponent_rating_sigma):\n",
    "    delta_mu = player_rating_mu - opponent_rating_mu\n",
    "    denom = sqrt(2 * (BETA * BETA) + pow(player_rating_sigma, 2) + pow(opponent_rating_sigma, 2))\n",
    "    return cdf(delta_mu / denom)"
   ]
  },
  {
   "cell_type": "code",
   "execution_count": 272,
   "metadata": {
    "collapsed": true
   },
   "outputs": [],
   "source": [
    "data = pd.DataFrame(columns = ['logreg', 'svm', 'radiant_rank_win_prop', 'radiant_gold_percentage', 'radiant_exp_percentage', 'radiant_winrate_prop', 'winner'])\n",
    "\n",
    "def parseMatch(match):\n",
    "    heroes = encodeHeroes(match[3], match[4])\n",
    "    #radiant_win = wins[wins.match_id == match[0]].radiant_win.values\n",
    "\n",
    "    logreg_pred = logreg.predict_proba(np.array(list(heroes)).reshape(1, -1))[0][1]\n",
    "    svm_pred = svm.predict_proba(np.array(list(heroes)).reshape(1, -1))[0][1]\n",
    "        \n",
    "    #if radiant_win:\n",
    "    #    winner = 1\n",
    "    #else:\n",
    "    #    winner = 0\n",
    "    #if row['dire_name'] in rank['0'].values:\n",
    "    dire_rank_mu = 25\n",
    "    dire_rank_sigma = 8.3\n",
    "    radiant_rank_mu = 25\n",
    "    radiant_rank_sigma = 8.3\n",
    "\n",
    "    if match[5] in rank['0'].values:\n",
    "        radiant_rank_mu = rank[rank['0'] == match[5]]['1'].values[0]\n",
    "        radiant_rank_sigma = rank[rank['0'] == match[5]]['2'].values[0]\n",
    "    if match[6] in rank['0'].values:\n",
    "        dire_rank = rank[rank['0'] == match[6]]['1'].values[0]\n",
    "        dire_rank_sigma = rank[rank['0'] == match[6]]['1'].values[0]\n",
    "            \n",
    "    radiant_rank_win_prop = win_probability(radiant_rank_mu, radiant_rank_sigma, dire_rank_mu, dire_rank_sigma)\n",
    "    duration = match[-1]\n",
    "        \n",
    "    radiant_gold = match[1][0]\n",
    "    dire_gold = match[2][0]\n",
    "    \n",
    "    radiant_gold_percentage = 1 / (1 + np.exp(- float(radiant_gold - dire_gold) * 8 / (radiant_gold + dire_gold)))\n",
    "        \n",
    "    radiant_exp = match[1][1]\n",
    "    dire_exp = match[2][1]\n",
    "\n",
    "    radiant_exp_percentage = 1 / (1 + np.exp(- float(radiant_exp - dire_exp) * 8 / (radiant_exp + dire_exp)))\n",
    "        \n",
    "    radiant_winrate_prop = 0.5\n",
    "\n",
    "    if not 0 in match[3] and not 0 in match[4]:\n",
    "        radiant_winrate = calcTeamWinRate(duration, match[3], polies)\n",
    "        dire_winrate = calcTeamWinRate(duration, match[4], polies)\n",
    "        radiant_winrate_prop = 1 / (1 + np.exp(- (radiant_winrate - dire_winrate) * 4))\n",
    "    \n",
    "    radiant_barracks = match[7]\n",
    "    dire_barracks = match[8]\n",
    "    \n",
    "    print radiant_barracks\n",
    "    print dire_barracks\n",
    "    \n",
    "    radiant_barracks_prop = 1 / (1 + np.exp(( (radiant_barracks - dire_barracks) * (radiant_barracks - dire_barracks)) / 4))\n",
    "    row = [logreg_pred, svm_pred, radiant_rank_win_prop, radiant_gold_percentage, radiant_exp_percentage, radiant_winrate_prop, radiant_barracks_prop]\n",
    "\n",
    "    return row\n"
   ]
  },
  {
   "cell_type": "code",
   "execution_count": 15,
   "metadata": {
    "collapsed": false
   },
   "outputs": [
    {
     "data": {
      "text/plain": [
       "{u'finish_time': 1457104739.0,\n",
       " u'live_info': None,\n",
       " u'match_id': 30,\n",
       " u'start_time': 1457101519.0,\n",
       " u'status': 2,\n",
       " u'steam_match_id': 2196830083,\n",
       " u'team_dire': 350190,\n",
       " u'team_radiant': 2586976,\n",
       " u'winner': u'dire'}"
      ]
     },
     "execution_count": 15,
     "metadata": {},
     "output_type": "execute_result"
    }
   ],
   "source": [
    "import requests\n",
    "\n",
    "api_key = '3F79284F633F5E13AFF338E1C45AD3EB'\n",
    "\n",
    "# resp = requests.post('http://alchemist.dotascience.com/api/match/30/prediction', \n",
    "#                      json={'team_id': 2586976, 'probability': 0.6}, headers={'Key': api_key})\n",
    "# resp = requests.post('http://alchemist.dotascience.com/api/match/31/prediction', \n",
    "#                      json={'team_id': 2586976, 'probability': 0.6}, headers={'Key': api_key})\n",
    "# resp = requests.post('http://alchemist.dotascience.com/api/match/32/prediction', \n",
    "#                      json={'team_id': 2586976, 'probability': 0.6}, headers={'Key': api_key})\n",
    "# resp = requests.get('http://alchemist.dotascience.com/api/leaderboard', headers={'Key': api_key})\n",
    "resp = requests.get('http://alchemist.dotascience.com/api/match/30/status', headers={'Key': api_key})\n",
    "resp.json()\n",
    "\n",
    "# Запускаем NewFormat относительно полученного джисона \n",
    "# Запускаем нашу оценку в соответствии с NewFormat\n",
    "# Ждем 10 сек, делаем то же самое\n",
    "\n",
    "# print a\n",
    "# for i in a[\"matches\"]:\n",
    "#     st = i[u'status'] \n",
    "#     if st==0:\n",
    "#         print i\n",
    "    "
   ]
  },
  {
   "cell_type": "code",
   "execution_count": 12,
   "metadata": {
    "collapsed": true
   },
   "outputs": [],
   "source": [
    "def get_actual_match_info(id):\n",
    "    resp = requests.get('http://alchemist.dotascience.com/api/match/'+str(id)+'/status', headers={'Key': api_key})\n",
    "    return resp.json()"
   ]
  },
  {
   "cell_type": "code",
   "execution_count": null,
   "metadata": {
    "collapsed": true
   },
   "outputs": [],
   "source": []
  },
  {
   "cell_type": "code",
   "execution_count": 18,
   "metadata": {
    "collapsed": true
   },
   "outputs": [],
   "source": [
    "f = open('shanghai_live_league_games.jsonlines', 'r')\n",
    "alldata = []\n",
    "for line in f:\n",
    "        alldata.append(json.loads(line))\n",
    "df = pd.DataFrame((alldata))"
   ]
  },
  {
   "cell_type": "code",
   "execution_count": 62,
   "metadata": {
    "collapsed": false
   },
   "outputs": [
    {
     "data": {
      "text/plain": [
       "1520578"
      ]
     },
     "execution_count": 62,
     "metadata": {},
     "output_type": "execute_result"
    }
   ],
   "source": [
    "json_response = pd.DataFrame.to_json(df[400:401])\n",
    "j_r = json.loads(json_response)\n",
    "j_r['radiant_team'].values()[0]['team_id']"
   ]
  },
  {
   "cell_type": "code",
   "execution_count": 154,
   "metadata": {
    "collapsed": true
   },
   "outputs": [],
   "source": [
    "def avrProp(props, weights):\n",
    "    weights  =  np.array(weights).astype('float') / sum(weights)\n",
    "    #print(weights)\n",
    "    return sum(props * weights)"
   ]
  },
  {
   "cell_type": "code",
   "execution_count": null,
   "metadata": {
    "collapsed": true
   },
   "outputs": [],
   "source": []
  },
  {
   "cell_type": "code",
   "execution_count": null,
   "metadata": {
    "collapsed": false
   },
   "outputs": [],
   "source": [
    "from time import sleep\n",
    "\n",
    "logreg_props = []\n",
    "avr_props = []\n",
    "match_timeline = []\n",
    "\n",
    "#logreg_pred,\n",
    "#svm_pred, \n",
    "#radiant_rank_win_prop, \n",
    "#radiant_gold_percentage,\n",
    "#radiant_exp_percentage,\n",
    "#radiant_winrate_prop,\n",
    "#radiant_barracks_pro\n",
    "\n",
    "i = 0\n",
    "while True:\n",
    "    sleep(3)\n",
    "    match_json = get_actual_match_info(46)\n",
    "    match = get_worth(match_json['live_info'])\n",
    "    match_timeline.append(match)\n",
    "    \n",
    "    resp = parseMatch(match)\n",
    "    #print('asas')\n",
    "    prop_logreg = fin_model.predict_proba(np.array(resp[:-1]).reshape(1, -1))[0][1]\n",
    "\n",
    "    \n",
    "    weights = np.ones(len(resp))\n",
    "    weights[3] = 6\n",
    "    weights[4] = 6\n",
    "    weights[5] = 5\n",
    "    weights[6] = 7\n",
    "    if resp[3] > 0.7 or resp[3] < 0.3:\n",
    "        weights[3] = 30\n",
    "    if resp[4] > 0.7 or resp[4] < 0.3:\n",
    "        weights[4] = 30\n",
    "    if resp[3] > 0.8 or resp[3] < 0.2:\n",
    "        weights[3] = 50\n",
    "    if resp[4] > 0.8 or resp[4] < 0.2:\n",
    "        weights[4] = 50\n",
    "    if resp[6] > 0.7 or resp[6] < 0.3:\n",
    "        weights[6] = 20\n",
    "    if resp[6] > 0.9 or resp[6] < 0.1:\n",
    "        weights[6] = 50\n",
    "    prop_avr = avrProp(resp, weights)\n",
    "    \n",
    "\n",
    "    logreg_props.append(prop_logreg)\n",
    "    avr_props.append(prop_avr)\n",
    "\n",
    "    if i % 3 == 0:\n",
    "        print match\n",
    "        print resp\n",
    "        print(\"logreg: {0}, avr: {1}\".format(prop_logreg, prop_avr))\n",
    "        print \"\\n\"\n",
    "    \n",
    "    team_id = match_json['live_info']['radiant_team']['team_id']\n",
    "    \n",
    "#    resp = requests.post('http://alch emist.dotascience.com/api/match/46/prediction', \n",
    "#                          json={'team_id': 2163, 'probability': 0.5}, headers={'Key': api_key})\n",
    "\n",
    "    resp = requests.post('http://alchemist.dotascience.com/api/match/46/prediction',\n",
    "                json={'team_id': team_id, 'probability': prop_avr}, headers={'Key': api_key})\n",
    "    i += 1"
   ]
  },
  {
   "cell_type": "code",
   "execution_count": 269,
   "metadata": {
    "collapsed": false
   },
   "outputs": [],
   "source": [
    "match_json = get_actual_match_info(46)\n",
    "match = get_worth(match_json['live_info'])"
   ]
  },
  {
   "cell_type": "code",
   "execution_count": 217,
   "metadata": {
    "collapsed": false
   },
   "outputs": [],
   "source": [
    "#match_json['live_info']"
   ]
  },
  {
   "cell_type": "code",
   "execution_count": 280,
   "metadata": {
    "collapsed": false
   },
   "outputs": [
    {
     "data": {
      "text/plain": [
       "(2201116123,\n",
       " [36144, 33567.82287273333],\n",
       " [71531, 71549.95736259999],\n",
       " [30, 22, 55, 33, 89],\n",
       " [88, 43, 110, 53, 70],\n",
       " u'Evil Geniuses',\n",
       " u'Team Liquid',\n",
       " 4,\n",
       " 6,\n",
       " 1905.458252)"
      ]
     },
     "execution_count": 280,
     "metadata": {},
     "output_type": "execute_result"
    }
   ],
   "source": [
    "match"
   ]
  },
  {
   "cell_type": "code",
   "execution_count": 274,
   "metadata": {
    "collapsed": false
   },
   "outputs": [
    {
     "name": "stdout",
     "output_type": "stream",
     "text": [
      "4\n",
      "6\n"
     ]
    }
   ],
   "source": [
    "resp = parseMatch(match)"
   ]
  },
  {
   "cell_type": "code",
   "execution_count": 275,
   "metadata": {
    "collapsed": false
   },
   "outputs": [
    {
     "data": {
      "text/plain": [
       "[0.46134256713896282,\n",
       " 0.50753433857867492,\n",
       " 0.55922719708288016,\n",
       " 0.067284450367695064,\n",
       " 0.052618482709604432,\n",
       " 0.66064197914374168,\n",
       " 0.2689414213699951]"
      ]
     },
     "execution_count": 275,
     "metadata": {},
     "output_type": "execute_result"
    }
   ],
   "source": [
    "resp\n"
   ]
  },
  {
   "cell_type": "code",
   "execution_count": 288,
   "metadata": {
    "collapsed": false
   },
   "outputs": [],
   "source": [
    "weights = np.ones(len(resp))\n",
    "weights[3] = 6\n",
    "weights[4] = 6\n",
    "weights[5] = 5\n",
    "weights[6] = 7\n",
    "if resp[3] > 0.7 or resp[3] < 0.3:\n",
    "    weights[3] = 30\n",
    "if resp[4] > 0.7 or resp[4] < 0.3:\n",
    "    weights[4] = 30\n",
    "if resp[3] > 0.8 or resp[3] < 0.2:\n",
    "    weights[3] = 50\n",
    "if resp[4] > 0.8 or resp[4] < 0.2:\n",
    "    weights[4] = 50\n",
    "if resp[6] > 0.7 or resp[6] < 0.3:\n",
    "    weights[6] = 20\n",
    "prop_avr = avrProp(resp, weights)"
   ]
  },
  {
   "cell_type": "code",
   "execution_count": 289,
   "metadata": {
    "collapsed": false
   },
   "outputs": [
    {
     "data": {
      "text/plain": [
       "0.12660382093581329"
      ]
     },
     "execution_count": 289,
     "metadata": {},
     "output_type": "execute_result"
    }
   ],
   "source": [
    "prop_avr"
   ]
  },
  {
   "cell_type": "code",
   "execution_count": 178,
   "metadata": {
    "collapsed": false
   },
   "outputs": [
    {
     "data": {
      "text/plain": [
       "(2201019839,\n",
       " [61148, 63910.3515625],\n",
       " [65475, 76692.421875],\n",
       " [26, 74, 110, 53, 80],\n",
       " [20, 88, 55, 33, 18],\n",
       " u'Team Liquid',\n",
       " u'Evil Geniuses',\n",
       " 2222.96875)"
      ]
     },
     "execution_count": 178,
     "metadata": {},
     "output_type": "execute_result"
    }
   ],
   "source": [
    "match_timeline[0]"
   ]
  },
  {
   "cell_type": "code",
   "execution_count": 281,
   "metadata": {
    "collapsed": false
   },
   "outputs": [
    {
     "data": {
      "text/plain": [
       "0.064969169128664073"
      ]
     },
     "execution_count": 281,
     "metadata": {},
     "output_type": "execute_result"
    }
   ],
   "source": [
    "1 / (1 + np.exp(float(71000 - 36000) * 8 / 105000))"
   ]
  },
  {
   "cell_type": "code",
   "execution_count": 242,
   "metadata": {
    "collapsed": false
   },
   "outputs": [
    {
     "data": {
      "text/plain": [
       "False"
      ]
     },
     "execution_count": 242,
     "metadata": {},
     "output_type": "execute_result"
    }
   ],
   "source": [
    "a = '1111'\n",
    "a == 1"
   ]
  },
  {
   "cell_type": "code",
   "execution_count": 191,
   "metadata": {
    "collapsed": false
   },
   "outputs": [
    {
     "data": {
      "text/plain": [
       "0.88079707797788231"
      ]
     },
     "execution_count": 191,
     "metadata": {},
     "output_type": "execute_result"
    }
   ],
   "source": []
  },
  {
   "cell_type": "code",
   "execution_count": 208,
   "metadata": {
    "collapsed": false
   },
   "outputs": [
    {
     "data": {
      "text/plain": [
       "0.25144712930466262"
      ]
     },
     "execution_count": 208,
     "metadata": {},
     "output_type": "execute_result"
    }
   ],
   "source": []
  },
  {
   "cell_type": "code",
   "execution_count": 219,
   "metadata": {
    "collapsed": false
   },
   "outputs": [
    {
     "data": {
      "text/plain": [
       "(2201116123,\n",
       " [36766, 33265.45371851667],\n",
       " [64044, 65228.81139213333],\n",
       " [30, 22, 55, 33, 89],\n",
       " [88, 43, 110, 53, 70],\n",
       " u'Evil Geniuses',\n",
       " u'Team Liquid',\n",
       " 0,\n",
       " 0,\n",
       " 1860.137207)"
      ]
     },
     "execution_count": 219,
     "metadata": {},
     "output_type": "execute_result"
    }
   ],
   "source": [
    "get_worth(match_json['live_info'])"
   ]
  },
  {
   "cell_type": "code",
   "execution_count": 227,
   "metadata": {
    "collapsed": false
   },
   "outputs": [
    {
     "data": {
      "text/plain": [
       "'1111'"
      ]
     },
     "execution_count": 227,
     "metadata": {},
     "output_type": "execute_result"
    }
   ],
   "source": [
    "bin(match_json['live_info']['scoreboard']['radiant']['barracks_state'])[2:]\n"
   ]
  },
  {
   "cell_type": "code",
   "execution_count": 237,
   "metadata": {
    "collapsed": false
   },
   "outputs": [
    {
     "data": {
      "text/plain": [
       "0.7310585786300049"
      ]
     },
     "execution_count": 237,
     "metadata": {},
     "output_type": "execute_result"
    }
   ],
   "source": [
    "1 / (1 + np.exp((- (6 - 4) * (6 - 4)) / 4))"
   ]
  },
  {
   "cell_type": "code",
   "execution_count": null,
   "metadata": {
    "collapsed": true
   },
   "outputs": [],
   "source": []
  }
 ],
 "metadata": {
  "kernelspec": {
   "display_name": "Python 2",
   "language": "python",
   "name": "python2"
  },
  "language_info": {
   "codemirror_mode": {
    "name": "ipython",
    "version": 2
   },
   "file_extension": ".py",
   "mimetype": "text/x-python",
   "name": "python",
   "nbconvert_exporter": "python",
   "pygments_lexer": "ipython2",
   "version": "2.7.11"
  }
 },
 "nbformat": 4,
 "nbformat_minor": 0
}
