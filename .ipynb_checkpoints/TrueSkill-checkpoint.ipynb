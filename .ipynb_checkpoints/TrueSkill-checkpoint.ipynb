{
 "cells": [
  {
   "cell_type": "markdown",
   "metadata": {},
   "source": [
    "# Прогноз результатов матчей на основе TrueSkill\n",
    "\n",
    "Загружаем нужные библиотеки."
   ]
  },
  {
   "cell_type": "code",
   "execution_count": 5,
   "metadata": {
    "collapsed": false
   },
   "outputs": [],
   "source": [
    "import pandas as pd\n",
    "import trueskill\n",
    "\n",
    "from math import sqrt, log\n",
    "from trueskill import BETA\n",
    "from trueskill.backends import cdf"
   ]
  },
  {
   "cell_type": "markdown",
   "metadata": {},
   "source": [
    "Загружаем информацию про результаты игр, скачанную с http://dotascience.com/ и сразу сортируем по Match_ID."
   ]
  },
  {
   "cell_type": "code",
   "execution_count": 6,
   "metadata": {
    "collapsed": false
   },
   "outputs": [
    {
     "name": "stderr",
     "output_type": "stream",
     "text": [
      "/home/anton/anaconda2/lib/python2.7/site-packages/ipykernel/__main__.py:1: FutureWarning: sort(columns=....) is deprecated, use sort_values(by=.....)\n",
      "  if __name__ == '__main__':\n"
     ]
    }
   ],
   "source": [
    "matches_info = pd.read_csv('selected_team_matches.csv').sort(['match_id'])"
   ]
  },
  {
   "cell_type": "markdown",
   "metadata": {},
   "source": [
    "Инициализируем параметры Trueskill используя параметры по умолчанию, кроме вероятность ничейного результата, у нас не бывает ничьих."
   ]
  },
  {
   "cell_type": "code",
   "execution_count": 7,
   "metadata": {
    "collapsed": false
   },
   "outputs": [
    {
     "data": {
      "text/plain": [
       "trueskill.TrueSkill(mu=25.000, sigma=8.333, beta=4.167, tau=0.083, draw_probability=0.0%)"
      ]
     },
     "execution_count": 7,
     "metadata": {},
     "output_type": "execute_result"
    }
   ],
   "source": [
    "trueskill.setup(draw_probability=0)"
   ]
  },
  {
   "cell_type": "markdown",
   "metadata": {},
   "source": [
    "Создадим словарик, где будем хранить рейтинги. И обучим нашу систему. Для каждого матча мы определим победителя и пересчитаем рейтинги комманд. Если команда раньше не встречалась задаем ей рейтинг по умочанию. В нашей простейшей модели мы считаем, что каждая команда это один виртуальный игрок."
   ]
  },
  {
   "cell_type": "code",
   "execution_count": 8,
   "metadata": {
    "collapsed": false
   },
   "outputs": [],
   "source": [
    "Rates = {}\n",
    "for index, row in matches_info.iterrows():\n",
    "    team1 = row['radiant']\n",
    "    team2 = row['dire']\n",
    "    if team1 not in Rates:\n",
    "        Rates[team1] = trueskill.Rating()\n",
    "    if team2 not in Rates:\n",
    "        Rates[team2] = trueskill.Rating()\n",
    "    if row['winner'] == 'RADIANT':\n",
    "        Rates[team1], Rates[team2] = trueskill.rate_1vs1(Rates[team1], Rates[team2])\n",
    "    else:\n",
    "        Rates[team2], Rates[team1] = trueskill.rate_1vs1(Rates[team2], Rates[team1])\n",
    "        "
   ]
  },
  {
   "cell_type": "markdown",
   "metadata": {},
   "source": [
    "Теперь мы можем, например, насладится рейтингом команты Virtus.pro, которая скрывается под тагом 'VP 2' "
   ]
  },
  {
   "cell_type": "code",
   "execution_count": 9,
   "metadata": {
    "collapsed": false
   },
   "outputs": [
    {
     "data": {
      "text/latex": [
       "$\\mathcal{ N }( 32.329, 0.799^2 )$"
      ],
      "text/plain": [
       "trueskill.Rating(mu=32.329, sigma=0.799)"
      ]
     },
     "execution_count": 9,
     "metadata": {},
     "output_type": "execute_result"
    }
   ],
   "source": [
    "Rates['VP 2']"
   ]
  },
  {
   "cell_type": "markdown",
   "metadata": {},
   "source": [
    "Попробуем оценить вероятность победы Virtus.pro, например, в матче с Evil Genius.\n",
    "К сожалению в библиотеке trueskill, нет возможности оценить вероятность, но мы же знаем из описания,\n",
    "что рейтинги тут нормально распределенные. Так что сделаем функцию, которая оценит вероятность, \n",
    "что сила игры первой команды, будет больше чем у второй."
   ]
  },
  {
   "cell_type": "code",
   "execution_count": 10,
   "metadata": {
    "collapsed": true
   },
   "outputs": [],
   "source": [
    "def win_probability(player_rating, opponent_rating):\n",
    "    delta_mu = player_rating.mu - opponent_rating.mu\n",
    "    denom = sqrt(2 * (BETA * BETA) + pow(player_rating.sigma, 2) + pow(opponent_rating.sigma, 2))\n",
    "    return cdf(delta_mu / denom)"
   ]
  },
  {
   "cell_type": "markdown",
   "metadata": {},
   "source": [
    "Ура, теперь мы можем оценить шансы."
   ]
  },
  {
   "cell_type": "code",
   "execution_count": 11,
   "metadata": {
    "collapsed": false
   },
   "outputs": [
    {
     "data": {
      "text/plain": [
       "0.48257973355975936"
      ]
     },
     "execution_count": 11,
     "metadata": {},
     "output_type": "execute_result"
    }
   ],
   "source": [
    "win_probability(Rates['VP 2'], Rates['EG'])"
   ]
  },
  {
   "cell_type": "markdown",
   "metadata": {},
   "source": [
    "Система сказала, что шансы почти равные. Теперь полученную оценку можно загрузить на сайт в качетве прогноза. \n",
    "Как это сделать расказанно [тут](https://github.com/romovpa/dotascience-hackathon/blob/master/README.md)."
   ]
  },
  {
   "cell_type": "code",
   "execution_count": 13,
   "metadata": {
    "collapsed": false
   },
   "outputs": [
    {
     "data": {
      "text/plain": [
       "{'123': trueskill.Rating(mu=22.739, sigma=2.607),\n",
       " '3DMAX': trueskill.Rating(mu=25.958, sigma=4.331),\n",
       " '4ASC': trueskill.Rating(mu=24.982, sigma=1.603),\n",
       " '4FC': trueskill.Rating(mu=24.761, sigma=2.817),\n",
       " '4H': trueskill.Rating(mu=19.916, sigma=5.973),\n",
       " '5eva': trueskill.Rating(mu=17.748, sigma=3.586),\n",
       " '99': trueskill.Rating(mu=19.604, sigma=5.897),\n",
       " 'AF 3': trueskill.Rating(mu=22.162, sigma=6.942),\n",
       " 'ATN': trueskill.Rating(mu=25.004, sigma=2.044),\n",
       " 'Aces': trueskill.Rating(mu=26.803, sigma=3.530),\n",
       " 'Alliance': trueskill.Rating(mu=31.407, sigma=0.794),\n",
       " 'Arcanys': trueskill.Rating(mu=17.538, sigma=4.203),\n",
       " 'Archon': trueskill.Rating(mu=25.238, sigma=0.961),\n",
       " 'Archon 2': trueskill.Rating(mu=28.417, sigma=2.228),\n",
       " 'Arrow': trueskill.Rating(mu=29.288, sigma=5.233),\n",
       " 'Artyk': trueskill.Rating(mu=17.349, sigma=4.790),\n",
       " 'Aurochs': trueskill.Rating(mu=21.022, sigma=6.642),\n",
       " 'BANearth': trueskill.Rating(mu=22.112, sigma=6.928),\n",
       " 'BB 5': trueskill.Rating(mu=20.731, sigma=6.196),\n",
       " 'BBC': trueskill.Rating(mu=20.186, sigma=6.473),\n",
       " 'BG': trueskill.Rating(mu=30.576, sigma=3.633),\n",
       " 'BU': trueskill.Rating(mu=29.856, sigma=2.527),\n",
       " 'Basically': trueskill.Rating(mu=26.771, sigma=4.175),\n",
       " 'Bheart': trueskill.Rating(mu=23.802, sigma=2.644),\n",
       " 'Boreal 2': trueskill.Rating(mu=23.546, sigma=3.012),\n",
       " 'C9': trueskill.Rating(mu=29.704, sigma=0.869),\n",
       " 'CDEC': trueskill.Rating(mu=30.442, sigma=0.812),\n",
       " 'CDEC.A': trueskill.Rating(mu=25.492, sigma=3.343),\n",
       " 'CDEC.Y': trueskill.Rating(mu=24.023, sigma=2.745),\n",
       " 'CDEC.Y 2': trueskill.Rating(mu=29.165, sigma=1.621),\n",
       " 'CIS': trueskill.Rating(mu=19.014, sigma=5.769),\n",
       " 'CL': trueskill.Rating(mu=29.490, sigma=1.621),\n",
       " 'CLG': trueskill.Rating(mu=26.832, sigma=3.144),\n",
       " 'CNB': trueskill.Rating(mu=18.032, sigma=5.023),\n",
       " 'COOKISS': trueskill.Rating(mu=22.170, sigma=6.945),\n",
       " 'Cant Say': trueskill.Rating(mu=15.446, sigma=3.958),\n",
       " 'CnS': trueskill.Rating(mu=21.724, sigma=6.853),\n",
       " 'DB 2': trueskill.Rating(mu=23.689, sigma=3.671),\n",
       " 'DB 3': trueskill.Rating(mu=23.896, sigma=3.860),\n",
       " 'DC': trueskill.Rating(mu=27.181, sigma=1.230),\n",
       " 'DD': trueskill.Rating(mu=22.451, sigma=7.033),\n",
       " 'DG': trueskill.Rating(mu=17.949, sigma=5.122),\n",
       " 'DK': trueskill.Rating(mu=26.195, sigma=1.357),\n",
       " 'DNT': trueskill.Rating(mu=21.419, sigma=6.737),\n",
       " 'DOG': trueskill.Rating(mu=27.418, sigma=3.245),\n",
       " 'DTS2010': trueskill.Rating(mu=19.707, sigma=5.921),\n",
       " 'DW': trueskill.Rating(mu=20.393, sigma=6.096),\n",
       " 'Darer': trueskill.Rating(mu=21.496, sigma=6.771),\n",
       " 'Dark Legion': trueskill.Rating(mu=19.720, sigma=5.924),\n",
       " 'Denial': trueskill.Rating(mu=17.071, sigma=4.582),\n",
       " 'Denial 2': trueskill.Rating(mu=21.066, sigma=6.648),\n",
       " 'Desire': trueskill.Rating(mu=19.690, sigma=5.917),\n",
       " 'Dignitas': trueskill.Rating(mu=26.973, sigma=1.365),\n",
       " 'E.Wolves': trueskill.Rating(mu=25.979, sigma=1.794),\n",
       " 'EED': trueskill.Rating(mu=33.755, sigma=5.381),\n",
       " 'EG': trueskill.Rating(mu=32.591, sigma=0.798),\n",
       " 'EHOME': trueskill.Rating(mu=33.006, sigma=0.801),\n",
       " 'EHOME.K 2': trueskill.Rating(mu=27.336, sigma=4.973),\n",
       " 'EHUG': trueskill.Rating(mu=20.460, sigma=2.761),\n",
       " 'EP': trueskill.Rating(mu=22.492, sigma=2.230),\n",
       " 'ESD': trueskill.Rating(mu=18.872, sigma=5.731),\n",
       " 'Eclypsia': trueskill.Rating(mu=21.429, sigma=6.753),\n",
       " 'Ehome.My': trueskill.Rating(mu=33.039, sigma=5.961),\n",
       " 'Elements': trueskill.Rating(mu=28.067, sigma=3.405),\n",
       " 'Empire': trueskill.Rating(mu=30.014, sigma=0.820),\n",
       " 'Energy': trueskill.Rating(mu=21.091, sigma=6.655),\n",
       " 'Enso': trueskill.Rating(mu=24.281, sigma=4.254),\n",
       " 'FF': trueskill.Rating(mu=27.601, sigma=2.180),\n",
       " 'FTD.A': trueskill.Rating(mu=19.097, sigma=5.780),\n",
       " 'FTD.B': trueskill.Rating(mu=27.156, sigma=2.870),\n",
       " 'FTFC': trueskill.Rating(mu=29.645, sigma=5.076),\n",
       " 'FanTuan': trueskill.Rating(mu=27.420, sigma=2.777),\n",
       " 'Fire': trueskill.Rating(mu=32.998, sigma=3.865),\n",
       " 'First Departure': trueskill.Rating(mu=23.880, sigma=1.868),\n",
       " 'Flip sid3': trueskill.Rating(mu=17.409, sigma=4.797),\n",
       " 'Fnatic.EU': trueskill.Rating(mu=28.903, sigma=1.185),\n",
       " 'Fnatic.MY': trueskill.Rating(mu=28.978, sigma=0.837),\n",
       " 'Fnatic.NA': trueskill.Rating(mu=28.217, sigma=3.634),\n",
       " 'Fusion': trueskill.Rating(mu=21.232, sigma=6.690),\n",
       " 'G Guard': trueskill.Rating(mu=21.682, sigma=7.227),\n",
       " 'G Guard 3': trueskill.Rating(mu=17.233, sigma=5.508),\n",
       " 'G00mba': trueskill.Rating(mu=25.722, sigma=4.236),\n",
       " 'GB': trueskill.Rating(mu=26.421, sigma=2.389),\n",
       " 'GOOMBA': trueskill.Rating(mu=27.006, sigma=4.282),\n",
       " 'GOONS': trueskill.Rating(mu=19.375, sigma=6.536),\n",
       " 'GU': trueskill.Rating(mu=21.501, sigma=6.763),\n",
       " 'HCWP': trueskill.Rating(mu=25.119, sigma=4.098),\n",
       " 'HR': trueskill.Rating(mu=29.752, sigma=1.788),\n",
       " 'Hao': trueskill.Rating(mu=20.561, sigma=6.156),\n",
       " 'IAP': trueskill.Rating(mu=17.693, sigma=5.473),\n",
       " 'IMG': trueskill.Rating(mu=16.799, sigma=4.784),\n",
       " 'ISG': trueskill.Rating(mu=19.872, sigma=5.968),\n",
       " 'Infamous 2': trueskill.Rating(mu=17.508, sigma=4.963),\n",
       " 'Insight': trueskill.Rating(mu=18.430, sigma=5.359),\n",
       " 'Invasion 3': trueskill.Rating(mu=16.897, sigma=4.498),\n",
       " 'Kaipi': trueskill.Rating(mu=27.734, sigma=1.812),\n",
       " 'Keita': trueskill.Rating(mu=21.064, sigma=6.649),\n",
       " 'Kingdom': trueskill.Rating(mu=19.920, sigma=5.974),\n",
       " 'KungFu': trueskill.Rating(mu=26.244, sigma=4.336),\n",
       " 'LC': trueskill.Rating(mu=27.756, sigma=2.784),\n",
       " 'LD': trueskill.Rating(mu=19.988, sigma=5.992),\n",
       " 'LGD.cn': trueskill.Rating(mu=31.407, sigma=0.806),\n",
       " 'Linkens': trueskill.Rating(mu=19.742, sigma=5.930),\n",
       " 'Liquid': trueskill.Rating(mu=31.805, sigma=0.830),\n",
       " 'Lv': trueskill.Rating(mu=36.183, sigma=4.976),\n",
       " 'LvT': trueskill.Rating(mu=22.074, sigma=2.372),\n",
       " 'M5': trueskill.Rating(mu=28.336, sigma=2.112),\n",
       " 'MFF': trueskill.Rating(mu=24.213, sigma=2.563),\n",
       " 'MUFC': trueskill.Rating(mu=28.770, sigma=4.841),\n",
       " 'MVP HOT6': trueskill.Rating(mu=26.515, sigma=1.566),\n",
       " 'MVP Phoenix': trueskill.Rating(mu=27.029, sigma=0.835),\n",
       " 'MYM': trueskill.Rating(mu=19.824, sigma=5.980),\n",
       " 'MYM 2': trueskill.Rating(mu=18.367, sigma=5.112),\n",
       " 'Mineski': trueskill.Rating(mu=27.515, sigma=1.026),\n",
       " 'Mischief': trueskill.Rating(mu=19.240, sigma=5.812),\n",
       " 'Molotov': trueskill.Rating(mu=19.741, sigma=5.933),\n",
       " 'MskiX': trueskill.Rating(mu=25.752, sigma=3.324),\n",
       " 'Muhan': trueskill.Rating(mu=21.131, sigma=6.665),\n",
       " 'NAR': trueskill.Rating(mu=26.471, sigma=3.858),\n",
       " 'NEXT.kz': trueskill.Rating(mu=21.065, sigma=6.991),\n",
       " 'NLG': trueskill.Rating(mu=25.945, sigma=2.019),\n",
       " 'NME': trueskill.Rating(mu=19.207, sigma=5.805),\n",
       " 'NTH': trueskill.Rating(mu=32.868, sigma=2.927),\n",
       " 'NaVi': trueskill.Rating(mu=29.242, sigma=0.876),\n",
       " 'NaVi.US': trueskill.Rating(mu=26.870, sigma=2.907),\n",
       " 'Nb': trueskill.Rating(mu=28.882, sigma=0.823),\n",
       " 'Newbee.M': trueskill.Rating(mu=18.996, sigma=3.299),\n",
       " 'Newbee.Y': trueskill.Rating(mu=25.864, sigma=1.681),\n",
       " 'NiP 2': trueskill.Rating(mu=29.496, sigma=1.060),\n",
       " 'NoT': trueskill.Rating(mu=23.506, sigma=1.916),\n",
       " 'Nyx': trueskill.Rating(mu=33.537, sigma=2.886),\n",
       " 'OG': trueskill.Rating(mu=33.187, sigma=0.809),\n",
       " 'Old boys': trueskill.Rating(mu=15.061, sigma=4.276),\n",
       " 'Osiris': trueskill.Rating(mu=21.578, sigma=6.778),\n",
       " 'PD 2': trueskill.Rating(mu=19.727, sigma=5.923),\n",
       " 'PRIES': trueskill.Rating(mu=27.935, sigma=3.338),\n",
       " 'PRIES 2': trueskill.Rating(mu=22.179, sigma=6.947),\n",
       " 'PoF 2': trueskill.Rating(mu=21.484, sigma=2.774),\n",
       " 'Power Rangers': trueskill.Rating(mu=28.315, sigma=1.545),\n",
       " 'Pretty Boy': trueskill.Rating(mu=21.123, sigma=6.662),\n",
       " 'Psst': trueskill.Rating(mu=21.095, sigma=6.655),\n",
       " 'Pulse': trueskill.Rating(mu=26.149, sigma=4.265),\n",
       " 'QPAD': trueskill.Rating(mu=19.568, sigma=5.890),\n",
       " 'Quantic': trueskill.Rating(mu=27.537, sigma=2.113),\n",
       " 'ROOT 2': trueskill.Rating(mu=27.710, sigma=2.270),\n",
       " 'RP 2': trueskill.Rating(mu=19.649, sigma=5.912),\n",
       " 'Rave': trueskill.Rating(mu=24.073, sigma=1.945),\n",
       " 'Redeem': trueskill.Rating(mu=26.794, sigma=4.959),\n",
       " 'Relax': trueskill.Rating(mu=20.592, sigma=6.152),\n",
       " 'Revenge': trueskill.Rating(mu=22.504, sigma=3.416),\n",
       " 'Rex Regum': trueskill.Rating(mu=18.646, sigma=5.685),\n",
       " 'Rigg3d': trueskill.Rating(mu=21.509, sigma=6.766),\n",
       " 'RoX.KIS': trueskill.Rating(mu=27.108, sigma=1.881),\n",
       " 'Rocket': trueskill.Rating(mu=19.675, sigma=6.366),\n",
       " 'SFZ': trueskill.Rating(mu=25.278, sigma=2.417),\n",
       " 'SGC': trueskill.Rating(mu=21.267, sigma=6.473),\n",
       " 'SIGMA.int': trueskill.Rating(mu=26.846, sigma=2.733),\n",
       " 'SNA': trueskill.Rating(mu=23.490, sigma=3.454),\n",
       " 'SP': trueskill.Rating(mu=22.352, sigma=7.001),\n",
       " 'STEAK': trueskill.Rating(mu=22.178, sigma=6.947),\n",
       " 'ScT': trueskill.Rating(mu=24.265, sigma=4.226),\n",
       " 'Secret': trueskill.Rating(mu=31.184, sigma=0.798),\n",
       " 'Shazam': trueskill.Rating(mu=21.309, sigma=3.149),\n",
       " 'Shz': trueskill.Rating(mu=32.643, sigma=6.007),\n",
       " 'SiG.Tr': trueskill.Rating(mu=23.268, sigma=1.571),\n",
       " 'Smeagol': trueskill.Rating(mu=19.432, sigma=5.860),\n",
       " 'Speed.int': trueskill.Rating(mu=32.829, sigma=2.558),\n",
       " 'SplasH': trueskill.Rating(mu=21.352, sigma=6.720),\n",
       " 'Stay Free': trueskill.Rating(mu=26.418, sigma=4.333),\n",
       " 'SumsRift': trueskill.Rating(mu=27.482, sigma=2.621),\n",
       " 'Super Strong': trueskill.Rating(mu=34.588, sigma=5.159),\n",
       " 'SwG': trueskill.Rating(mu=21.238, sigma=6.691),\n",
       " 'TB 2': trueskill.Rating(mu=18.077, sigma=5.333),\n",
       " 'TBE 2': trueskill.Rating(mu=20.249, sigma=6.058),\n",
       " 'TC': trueskill.Rating(mu=21.243, sigma=6.348),\n",
       " 'TNC': trueskill.Rating(mu=25.454, sigma=1.884),\n",
       " 'TOP5': trueskill.Rating(mu=24.556, sigma=4.981),\n",
       " 'TSpirit': trueskill.Rating(mu=29.424, sigma=0.866),\n",
       " 'TTD 2': trueskill.Rating(mu=32.294, sigma=6.043),\n",
       " 'Take Five': trueskill.Rating(mu=31.146, sigma=2.682),\n",
       " 'Taring': trueskill.Rating(mu=19.331, sigma=5.832),\n",
       " 'Team HGT': trueskill.Rating(mu=26.422, sigma=1.414),\n",
       " 'Team Life': trueskill.Rating(mu=26.491, sigma=4.335),\n",
       " 'Team Unknown': trueskill.Rating(mu=22.027, sigma=3.638),\n",
       " 'TeamYP': trueskill.Rating(mu=20.383, sigma=6.094),\n",
       " 'The House': trueskill.Rating(mu=19.439, sigma=5.857),\n",
       " 'The Retry': trueskill.Rating(mu=21.298, sigma=6.724),\n",
       " 'Titan': trueskill.Rating(mu=20.194, sigma=6.013),\n",
       " 'TongFu': trueskill.Rating(mu=25.941, sigma=1.177),\n",
       " 'TongFu.WZ': trueskill.Rating(mu=22.876, sigma=4.042),\n",
       " 'Try Hard': trueskill.Rating(mu=18.598, sigma=5.392),\n",
       " 'Turtle': trueskill.Rating(mu=21.541, sigma=6.774),\n",
       " 'Typical': trueskill.Rating(mu=17.378, sigma=4.750),\n",
       " 'Unknown': trueskill.Rating(mu=20.283, sigma=3.611),\n",
       " 'VA': trueskill.Rating(mu=20.549, sigma=6.140),\n",
       " 'VB': trueskill.Rating(mu=24.225, sigma=2.127),\n",
       " 'VG': trueskill.Rating(mu=32.472, sigma=0.798),\n",
       " 'VG.P': trueskill.Rating(mu=24.115, sigma=2.120),\n",
       " 'VP': trueskill.Rating(mu=27.986, sigma=1.336),\n",
       " 'VP 2': trueskill.Rating(mu=32.329, sigma=0.799),\n",
       " 'Vega': trueskill.Rating(mu=30.886, sigma=0.938),\n",
       " 'WG 2': trueskill.Rating(mu=20.816, sigma=6.216),\n",
       " 'Way': trueskill.Rating(mu=18.915, sigma=5.740),\n",
       " 'Wh': trueskill.Rating(mu=22.771, sigma=4.080),\n",
       " 'WhA': trueskill.Rating(mu=17.757, sigma=5.521),\n",
       " 'Wings': trueskill.Rating(mu=25.916, sigma=1.765),\n",
       " 'XctN 2': trueskill.Rating(mu=16.429, sigma=4.246),\n",
       " 'YeS 2': trueskill.Rating(mu=20.389, sigma=3.213),\n",
       " 'Zenith': trueskill.Rating(mu=19.383, sigma=5.895),\n",
       " 'Zero': trueskill.Rating(mu=26.876, sigma=3.199),\n",
       " 'aAa': trueskill.Rating(mu=21.115, sigma=6.661),\n",
       " 'aL': trueskill.Rating(mu=31.156, sigma=3.013),\n",
       " 'coL': trueskill.Rating(mu=34.479, sigma=3.812),\n",
       " 'coL 2': trueskill.Rating(mu=28.760, sigma=0.843),\n",
       " 'dd.Dota': trueskill.Rating(mu=19.010, sigma=5.500),\n",
       " 'hehe united': trueskill.Rating(mu=19.676, sigma=5.918),\n",
       " 'iCCup': trueskill.Rating(mu=35.056, sigma=5.101),\n",
       " 'iDeal 2': trueskill.Rating(mu=19.427, sigma=5.700),\n",
       " 'iG': trueskill.Rating(mu=30.424, sigma=0.864),\n",
       " 'iG.V': trueskill.Rating(mu=23.743, sigma=2.477),\n",
       " 'mYi': trueskill.Rating(mu=21.141, sigma=6.317),\n",
       " 'mouz': trueskill.Rating(mu=30.983, sigma=1.290),\n",
       " 'mouz 2': trueskill.Rating(mu=28.580, sigma=1.883),\n",
       " 'nt123': trueskill.Rating(mu=24.178, sigma=3.897),\n",
       " 'paiN': trueskill.Rating(mu=15.809, sigma=4.822),\n",
       " 'paiN.int': trueskill.Rating(mu=19.426, sigma=5.846),\n",
       " 'rbd': trueskill.Rating(mu=19.785, sigma=6.424),\n",
       " 'snakes': trueskill.Rating(mu=18.021, sigma=5.588),\n",
       " 'team wwd': trueskill.Rating(mu=19.471, sigma=5.865),\n",
       " 'uG': trueskill.Rating(mu=25.442, sigma=3.589),\n",
       " 'zRage': trueskill.Rating(mu=19.588, sigma=5.894)}"
      ]
     },
     "execution_count": 13,
     "metadata": {},
     "output_type": "execute_result"
    }
   ],
   "source": [
    "Rates"
   ]
  },
  {
   "cell_type": "code",
   "execution_count": null,
   "metadata": {
    "collapsed": true
   },
   "outputs": [],
   "source": []
  }
 ],
 "metadata": {
  "kernelspec": {
   "display_name": "Python 2",
   "language": "python",
   "name": "python2"
  },
  "language_info": {
   "codemirror_mode": {
    "name": "ipython",
    "version": 2
   },
   "file_extension": ".py",
   "mimetype": "text/x-python",
   "name": "python",
   "nbconvert_exporter": "python",
   "pygments_lexer": "ipython2",
   "version": "2.7.11"
  }
 },
 "nbformat": 4,
 "nbformat_minor": 0
}
