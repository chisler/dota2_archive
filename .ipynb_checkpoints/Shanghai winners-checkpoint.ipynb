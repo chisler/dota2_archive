{
 "cells": [
  {
   "cell_type": "code",
   "execution_count": 6,
   "metadata": {
    "collapsed": true
   },
   "outputs": [],
   "source": [
    "import pandas as pd\n",
    "import numpy as np\n",
    "import matplotlib.pyplot as plt\n",
    "import json\n",
    "\n",
    "from sklearn import linear_model\n",
    "from sklearn import neighbors\n",
    "from sklearn import svm as svm_classifier\n",
    "from sklearn.metrics import make_scorer\n",
    "from sklearn.externals import joblib"
   ]
  },
  {
   "cell_type": "code",
   "execution_count": 3,
   "metadata": {
    "collapsed": true
   },
   "outputs": [],
   "source": [
    "rank = pd.read_csv('rank_.csv')\n",
    "\n",
    "svm = joblib.load('./ready_models/svm_picks_rates.pkl')\n",
    "logreg = joblib.load('./ready_models/logreg_picks_rates.pkl')"
   ]
  },
  {
   "cell_type": "code",
   "execution_count": 65,
   "metadata": {
    "collapsed": false
   },
   "outputs": [],
   "source": [
    "def encodeHeroes(radiant_pick, dire_pick):\n",
    "    onehotheroes = np.zeros(228)\n",
    "    for hero in radiant_pick:\n",
    "        if hero != 0:\n",
    "            onehotheroes[hero] = 1\n",
    "    for hero in dire_pick:\n",
    "        if hero != 0:\n",
    "            onehotheroes[hero + 114] = 1\n",
    "    return onehotheroes"
   ]
  },
  {
   "cell_type": "code",
   "execution_count": 29,
   "metadata": {
    "collapsed": false
   },
   "outputs": [],
   "source": [
    "def scoreFunc(y, y_pred):\n",
    "    if y == 1: \n",
    "        if np.log2(y_pred) < -5:\n",
    "            return -5\n",
    "        return np.log2(y_pred) + 1\n",
    "    else:\n",
    "        if np.log2(1 - y_pred) < -5:\n",
    "            return -5\n",
    "        return np.log2(1 - y_pred) + 1\n",
    "log_score = make_scorer(scoreFunc)"
   ]
  },
  {
   "cell_type": "code",
   "execution_count": 34,
   "metadata": {
    "collapsed": false
   },
   "outputs": [],
   "source": [
    "poly_and_rates = pd.read_csv('TimeWinRatesPoly.csv')\n",
    "polies = [[] for i in range(115)]\n",
    "for index, line in poly_and_rates.iterrows():\n",
    "    \n",
    "    pol = [line[6], line[7], line[8], line[9]]\n",
    "    polies[int(line[1])] = np.poly1d(pol)\n",
    "    \n",
    "def calcTeamWinRate(time, pick, polies):\n",
    "    rates = [polies[i](time) for i in pick]\n",
    "    return sum(rates)"
   ]
  },
  {
   "cell_type": "code",
   "execution_count": 35,
   "metadata": {
    "collapsed": true
   },
   "outputs": [],
   "source": [
    "def get_worth(match):\n",
    "    radiant_gold_xp = [0,0]\n",
    "    dire_gold_xp = [0,0]\n",
    "    \n",
    "#     get_pick\n",
    "\n",
    "    radiant_pick = []\n",
    "    dire_pick = []\n",
    "    try:    \n",
    "        radiant_players = match[\"scoreboard\"].values[0][\"radiant\"][\"players\"]\n",
    "        dire_players = match[\"scoreboard\"].values[0][\"dire\"][\"players\"]\n",
    "        time = match[\"scoreboard\"].values[0][\"duration\"]\n",
    "        #     print time\n",
    "        for i in radiant_players:\n",
    "            radiant_pick.append(i[\"hero_id\"])\n",
    "            radiant_gold_xp[0]+=i[\"net_worth\"]\n",
    "            radiant_gold_xp[1]+=i[\"xp_per_min\"]*float(time)/60\n",
    "        for i in dire_players:\n",
    "            dire_pick.append(i[\"hero_id\"])\n",
    "            dire_gold_xp[0]+=i[\"net_worth\"]\n",
    "            dire_gold_xp[1]+=i[\"xp_per_min\"]*float(time)/60\n",
    "        radiant_name = match[\"radiant_team\"].values[0][\"team_name\"]\n",
    "        dire_name = match[\"dire_team\"].values[0][\"team_name\"]    \n",
    "\n",
    "        if (dire_name == \"Team Liquid\"):\n",
    "            dire_name =\"Liquid\"\n",
    "        if (dire_name == \"Team Secret\"):\n",
    "            dire_name =\"Secret\"\n",
    "        if (dire_name == \"Evil Geniuses\"):\n",
    "            dire_name =\"EG\"\n",
    "        if (radiant_name == \"Team Liquid\"):\n",
    "            radiant_name =\"Liquid\"\n",
    "        if (radiant_name == \"Team Secret\"):\n",
    "            radiant_name =\"Secret\"\n",
    "        if (radiant_name == \"Evil Geniuses\"):\n",
    "            radiant_name =\"EG\"\n",
    "    except:\n",
    "        return -1\n",
    "    return match[\"match_id\"].values[0],radiant_gold_xp, dire_gold_xp,radiant_pick,dire_pick,radiant_name,dire_name,time"
   ]
  },
  {
   "cell_type": "code",
   "execution_count": 36,
   "metadata": {
    "collapsed": true
   },
   "outputs": [],
   "source": [
    "# XP GOLD PICKS TIME TEAMS\n",
    "def get_XP_GOLD_from_moment(current_match):\n",
    "    return get_worth(current_match)\n",
    "#     print current_match"
   ]
  },
  {
   "cell_type": "code",
   "execution_count": 37,
   "metadata": {
    "collapsed": true
   },
   "outputs": [],
   "source": [
    "def get_information_about_one_match(df,match_id):\n",
    "    current_matches = df[df.match_id == match_id]\n",
    "#     print current_matches\n",
    "    result = []\n",
    "    for i in range (len(current_matches)):\n",
    "#     i = 3\n",
    "        result.append(get_XP_GOLD_from_moment(current_matches[i:i+1]))\n",
    "    return result\n",
    "#     print current_matches[0:1]\n",
    "        "
   ]
  },
  {
   "cell_type": "code",
   "execution_count": 38,
   "metadata": {
    "collapsed": true
   },
   "outputs": [],
   "source": [
    "f = open('shanghai_live_league_games.jsonlines', 'r')\n",
    "alldata = []\n",
    "for line in f:\n",
    "        alldata.append(json.loads(line))\n",
    "df = pd.DataFrame((alldata))"
   ]
  },
  {
   "cell_type": "code",
   "execution_count": 39,
   "metadata": {
    "collapsed": true
   },
   "outputs": [],
   "source": [
    "# get_information_about_one_match(df,2176488482)\n",
    "all_match_ids = df[\"match_id\"].unique()\n",
    "alldata = []\n",
    "for id in all_match_ids:\n",
    "    get = get_information_about_one_match(df,id)\n",
    "    if (get!=-1):\n",
    "        alldata.append(get)\n",
    "#THE_BIGGEST_ARRAY[1]"
   ]
  },
  {
   "cell_type": "code",
   "execution_count": 79,
   "metadata": {
    "collapsed": false
   },
   "outputs": [],
   "source": [
    "timedata = []\n",
    "for match in alldata:\n",
    "    for timeevent in match:\n",
    "        timedata.append([timeevent])"
   ]
  },
  {
   "cell_type": "code",
   "execution_count": 91,
   "metadata": {
    "collapsed": true
   },
   "outputs": [],
   "source": [
    "wins = pd.read_csv('match_results.csv')"
   ]
  },
  {
   "cell_type": "code",
   "execution_count": null,
   "metadata": {
    "collapsed": true
   },
   "outputs": [],
   "source": []
  },
  {
   "cell_type": "code",
   "execution_count": 89,
   "metadata": {
    "collapsed": false
   },
   "outputs": [
    {
     "name": "stdout",
     "output_type": "stream",
     "text": [
      "235\n"
     ]
    },
    {
     "ename": "ValueError",
     "evalue": "cannot set a row with mismatched columns",
     "output_type": "error",
     "traceback": [
      "\u001b[1;31m---------------------------------------------------------------------------\u001b[0m",
      "\u001b[1;31mValueError\u001b[0m                                Traceback (most recent call last)",
      "\u001b[1;32m<ipython-input-89-acf14938e8cf>\u001b[0m in \u001b[0;36m<module>\u001b[1;34m()\u001b[0m\n\u001b[0;32m      9\u001b[0m \u001b[1;33m\u001b[0m\u001b[0m\n\u001b[0;32m     10\u001b[0m     \u001b[1;32mprint\u001b[0m\u001b[1;33m(\u001b[0m\u001b[0mlen\u001b[0m\u001b[1;33m(\u001b[0m\u001b[0mrow\u001b[0m\u001b[1;33m)\u001b[0m\u001b[1;33m)\u001b[0m\u001b[1;33m\u001b[0m\u001b[0m\n\u001b[1;32m---> 11\u001b[1;33m     \u001b[0mdata\u001b[0m\u001b[1;33m.\u001b[0m\u001b[0mloc\u001b[0m\u001b[1;33m[\u001b[0m\u001b[0mlen\u001b[0m\u001b[1;33m(\u001b[0m\u001b[0mdata\u001b[0m\u001b[1;33m)\u001b[0m\u001b[1;33m]\u001b[0m \u001b[1;33m=\u001b[0m \u001b[0mrow\u001b[0m\u001b[1;33m\u001b[0m\u001b[0m\n\u001b[0m",
      "\u001b[1;32m/home/anton/anaconda2/lib/python2.7/site-packages/pandas/core/indexing.pyc\u001b[0m in \u001b[0;36m__setitem__\u001b[1;34m(self, key, value)\u001b[0m\n\u001b[0;32m    115\u001b[0m     \u001b[1;32mdef\u001b[0m \u001b[0m__setitem__\u001b[0m\u001b[1;33m(\u001b[0m\u001b[0mself\u001b[0m\u001b[1;33m,\u001b[0m \u001b[0mkey\u001b[0m\u001b[1;33m,\u001b[0m \u001b[0mvalue\u001b[0m\u001b[1;33m)\u001b[0m\u001b[1;33m:\u001b[0m\u001b[1;33m\u001b[0m\u001b[0m\n\u001b[0;32m    116\u001b[0m         \u001b[0mindexer\u001b[0m \u001b[1;33m=\u001b[0m \u001b[0mself\u001b[0m\u001b[1;33m.\u001b[0m\u001b[0m_get_setitem_indexer\u001b[0m\u001b[1;33m(\u001b[0m\u001b[0mkey\u001b[0m\u001b[1;33m)\u001b[0m\u001b[1;33m\u001b[0m\u001b[0m\n\u001b[1;32m--> 117\u001b[1;33m         \u001b[0mself\u001b[0m\u001b[1;33m.\u001b[0m\u001b[0m_setitem_with_indexer\u001b[0m\u001b[1;33m(\u001b[0m\u001b[0mindexer\u001b[0m\u001b[1;33m,\u001b[0m \u001b[0mvalue\u001b[0m\u001b[1;33m)\u001b[0m\u001b[1;33m\u001b[0m\u001b[0m\n\u001b[0m\u001b[0;32m    118\u001b[0m \u001b[1;33m\u001b[0m\u001b[0m\n\u001b[0;32m    119\u001b[0m     \u001b[1;32mdef\u001b[0m \u001b[0m_has_valid_type\u001b[0m\u001b[1;33m(\u001b[0m\u001b[0mself\u001b[0m\u001b[1;33m,\u001b[0m \u001b[0mk\u001b[0m\u001b[1;33m,\u001b[0m \u001b[0maxis\u001b[0m\u001b[1;33m)\u001b[0m\u001b[1;33m:\u001b[0m\u001b[1;33m\u001b[0m\u001b[0m\n",
      "\u001b[1;32m/home/anton/anaconda2/lib/python2.7/site-packages/pandas/core/indexing.pyc\u001b[0m in \u001b[0;36m_setitem_with_indexer\u001b[1;34m(self, indexer, value)\u001b[0m\n\u001b[0;32m    332\u001b[0m                             \u001b[1;32mif\u001b[0m \u001b[0mlen\u001b[0m\u001b[1;33m(\u001b[0m\u001b[0mvalue\u001b[0m\u001b[1;33m)\u001b[0m \u001b[1;33m!=\u001b[0m \u001b[0mlen\u001b[0m\u001b[1;33m(\u001b[0m\u001b[0mself\u001b[0m\u001b[1;33m.\u001b[0m\u001b[0mobj\u001b[0m\u001b[1;33m.\u001b[0m\u001b[0mcolumns\u001b[0m\u001b[1;33m)\u001b[0m\u001b[1;33m:\u001b[0m\u001b[1;33m\u001b[0m\u001b[0m\n\u001b[0;32m    333\u001b[0m                                 raise ValueError(\n\u001b[1;32m--> 334\u001b[1;33m                                     \u001b[1;34m\"cannot set a row with mismatched columns\"\u001b[0m\u001b[1;33m\u001b[0m\u001b[0m\n\u001b[0m\u001b[0;32m    335\u001b[0m                                     )\n\u001b[0;32m    336\u001b[0m \u001b[1;33m\u001b[0m\u001b[0m\n",
      "\u001b[1;31mValueError\u001b[0m: cannot set a row with mismatched columns"
     ]
    }
   ],
   "source": [
    "data = pd.DataFrame(columns = ['r_hero_'+str(i) for i in range(114)] \n",
    "                    + ['d_hero_'+str(i) for i in range(114)] \n",
    "            + ['radiant_rank', 'dire_rank', 'radiant_gold', 'dire_gold', 'radiant_exp', 'dire_exp', 'duration', 'winner'])\n",
    "\n",
    "\n",
    "for match in timedata[0]:\n",
    "    heroes = encodeHeroes(match[3], match[4])\n",
    "    row = list(heroes) + [25,25] +  [match[1][0], match[2][0], match[1][1], match[2][1], match[-1]] \n",
    "     \n",
    "    print(len(row))    \n",
    "    data.loc[len(data)] = row"
   ]
  },
  {
   "cell_type": "code",
   "execution_count": 90,
   "metadata": {
    "collapsed": false
   },
   "outputs": [
    {
     "data": {
      "text/plain": [
       "236"
      ]
     },
     "execution_count": 90,
     "metadata": {},
     "output_type": "execute_result"
    }
   ],
   "source": [
    "len(data.columns)"
   ]
  },
  {
   "cell_type": "code",
   "execution_count": 67,
   "metadata": {
    "collapsed": true
   },
   "outputs": [],
   "source": [
    "heroes = encodeHeroes(timedata[0][3],timedata[0][4])"
   ]
  },
  {
   "cell_type": "code",
   "execution_count": null,
   "metadata": {
    "collapsed": true
   },
   "outputs": [],
   "source": []
  }
 ],
 "metadata": {
  "kernelspec": {
   "display_name": "Python 2",
   "language": "python",
   "name": "python2"
  },
  "language_info": {
   "codemirror_mode": {
    "name": "ipython",
    "version": 2
   },
   "file_extension": ".py",
   "mimetype": "text/x-python",
   "name": "python",
   "nbconvert_exporter": "python",
   "pygments_lexer": "ipython2",
   "version": "2.7.11"
  }
 },
 "nbformat": 4,
 "nbformat_minor": 0
}
