{
 "cells": [
  {
   "cell_type": "markdown",
   "metadata": {},
   "source": [
    "# Прогноз результатов матчей на основе TrueSkill\n",
    "\n",
    "Загружаем нужные библиотеки."
   ]
  },
  {
   "cell_type": "code",
   "execution_count": 13,
   "metadata": {
    "collapsed": false
   },
   "outputs": [],
   "source": [
    "import pandas as pd\n",
    "import trueskill\n",
    "import json\n",
    "\n",
    "from math import sqrt, log\n",
    "from trueskill import BETA\n",
    "from trueskill.backends import cdf"
   ]
  },
  {
   "cell_type": "markdown",
   "metadata": {},
   "source": [
    "Загружаем информацию про результаты игр, скачанную с http://dotascience.com/ и сразу сортируем по Match_ID."
   ]
  },
  {
   "cell_type": "code",
   "execution_count": 2,
   "metadata": {
    "collapsed": false
   },
   "outputs": [
    {
     "name": "stderr",
     "output_type": "stream",
     "text": [
      "/home/anton/anaconda2/lib/python2.7/site-packages/ipykernel/__main__.py:1: FutureWarning: sort(columns=....) is deprecated, use sort_values(by=.....)\n",
      "  if __name__ == '__main__':\n"
     ]
    }
   ],
   "source": [
    "matches_info = pd.read_csv('selected_team_matches.csv').sort(['match_id'])\n"
   ]
  },
  {
   "cell_type": "code",
   "execution_count": 3,
   "metadata": {
    "collapsed": true
   },
   "outputs": [],
   "source": [
    "f = open('selected_team_match_info.jsonlines', 'r')\n",
    "alldata = f.readlines()\n",
    "f.close()"
   ]
  },
  {
   "cell_type": "code",
   "execution_count": 4,
   "metadata": {
    "collapsed": false
   },
   "outputs": [],
   "source": [
    "teams_data = pd.DataFrame(columns = ['time', 'dire', 'radiant', 'winner'])\n",
    "\n",
    "for match_string in alldata:\n",
    "    match = json.loads(match_string)\n",
    "    res = [0,'','','']\n",
    "    try:\n",
    "        res[0] = match[u'start_time']\n",
    "        res[1] = match[u'dire_name']\n",
    "        res[2] = match[u'radiant_name']\n",
    "        if match['radiant_win']:\n",
    "            res[3] = 'RADIANT'\n",
    "        else:\n",
    "            res[3] = 'DIRE'\n",
    "        #print(res)\n",
    "    except:\n",
    "        pass\n",
    "    teams_data.loc[len(teams_data)] = res"
   ]
  },
  {
   "cell_type": "code",
   "execution_count": 5,
   "metadata": {
    "collapsed": false
   },
   "outputs": [
    {
     "data": {
      "text/plain": [
       "Evil Geniuses                       445\n",
       "CDEC Gaming                         133\n",
       "Team Liquid                         133\n",
       "compLexity Gaming                   129\n",
       "LGD-GAMING                          128\n",
       "Virtus.pro                          121\n",
       "Vici Gaming                         119\n",
       "Alliance                            113\n",
       "MVP Phoenix                         108\n",
       "EHOME                               105\n",
       "Team Secret                         103\n",
       "Newbee                               96\n",
       "Fnatic                               84\n",
       "Team Empire                          67\n",
       "Invictus Gaming                      58\n",
       "OG Dota2                             57\n",
       "                                     55\n",
       "Natus Vincere                        53\n",
       "Cloud9 G2A                           47\n",
       "TeamMalaysia                         42\n",
       "Team. Spirit                         39\n",
       "Team Archon                          39\n",
       "-Ninjas-in-Pyjamas-                  38\n",
       "Vega Squadron                        35\n",
       "(monkey) Business                    31\n",
       "Gigabyte.Mineski                     26\n",
       "TongFu|                              23\n",
       "$5JuNGz$                             23\n",
       "mousesports                          22\n",
       "Digital Chaos                        19\n",
       "                                   ... \n",
       "Kharkiv Team                          1\n",
       "Nvidia.ArrowGaming.AVF                1\n",
       "Shadows of the Past.                  1\n",
       "Titan                                 1\n",
       "Taring^MY                             1\n",
       "Skanes Elit                           1\n",
       "We.are.young                          1\n",
       "Wombat-Gaming                         1\n",
       "Ahead.kz                              1\n",
       "G Guard                               1\n",
       "Linkens Over Vanguard Everytime!      1\n",
       "Pool Sorcery Some Tangoes             1\n",
       "DreamDestroyers                       1\n",
       "Try Hard Dota                         1\n",
       "SuperStrongDinosaurs                  1\n",
       "e-Club[MUFC]                          1\n",
       "Desir[e]                              1\n",
       "E-Sports Dream                        1\n",
       "Denial eSports'                       1\n",
       "Isurus Gaming HyperX                  1\n",
       "Enterprise Gaming.                    1\n",
       "zRAGE                                 1\n",
       "FnaticRC.North America                1\n",
       "Osiris Gaming                         1\n",
       "[Flip.Sid3 Tactics]                   1\n",
       "EHOME.KEEN                            1\n",
       "mTw                                   1\n",
       "The House is Down.                    1\n",
       "Rex Regum QEON                        1\n",
       "Recovery Position                     1\n",
       "Name: dire, dtype: int64"
      ]
     },
     "execution_count": 5,
     "metadata": {},
     "output_type": "execute_result"
    }
   ],
   "source": [
    "#teams_data.sort(['time'])\n",
    "teams_data.dire.value_counts()"
   ]
  },
  {
   "cell_type": "markdown",
   "metadata": {},
   "source": [
    "Инициализируем параметры Trueskill используя параметры по умолчанию, кроме вероятность ничейного результата, у нас не бывает ничьих."
   ]
  },
  {
   "cell_type": "code",
   "execution_count": null,
   "metadata": {
    "collapsed": false
   },
   "outputs": [],
   "source": [
    "trueskill.setup(draw_probability=0)"
   ]
  },
  {
   "cell_type": "markdown",
   "metadata": {},
   "source": [
    "Создадим словарик, где будем хранить рейтинги. И обучим нашу систему. Для каждого матча мы определим победителя и пересчитаем рейтинги комманд. Если команда раньше не встречалась задаем ей рейтинг по умочанию. В нашей простейшей модели мы считаем, что каждая команда это один виртуальный игрок."
   ]
  },
  {
   "cell_type": "code",
   "execution_count": null,
   "metadata": {
    "collapsed": false
   },
   "outputs": [],
   "source": [
    "Rates = {}\n",
    "for index, row in matches_info.iterrows():\n",
    "    team1 = row['radiant']\n",
    "    team2 = row['dire']\n",
    "    if team1 not in Rates:\n",
    "        Rates[team1] = trueskill.Rating()\n",
    "    if team2 not in Rates:\n",
    "        Rates[team2] = trueskill.Rating()\n",
    "    if row['winner'] == 'RADIANT':\n",
    "        Rates[team1], Rates[team2] = trueskill.rate_1vs1(Rates[team1], Rates[team2])\n",
    "    else:\n",
    "        Rates[team2], Rates[team1] = trueskill.rate_1vs1(Rates[team2], Rates[team1])\n",
    "        "
   ]
  },
  {
   "cell_type": "code",
   "execution_count": 6,
   "metadata": {
    "collapsed": true
   },
   "outputs": [],
   "source": [
    "Rates_rec_data = {}\n",
    "\n",
    "for index, row in teams_data.iterrows():\n",
    "    team1 = row['radiant']\n",
    "    team2 = row['dire']\n",
    "    if team1 not in Rates_rec_data:\n",
    "        Rates_rec_data[team1] = trueskill.Rating()\n",
    "    if team2 not in Rates_rec_data:\n",
    "        Rates_rec_data[team2] = trueskill.Rating()\n",
    "    if row['winner'] == 'RADIANT':\n",
    "        Rates_rec_data[team1], Rates_rec_data[team2] = trueskill.rate_1vs1(Rates_rec_data[team1], Rates_rec_data[team2])\n",
    "    else:\n",
    "        Rates_rec_data[team2], Rates_rec_data[team1] = trueskill.rate_1vs1(Rates_rec_data[team2], Rates_rec_data[team1])\n",
    "        "
   ]
  },
  {
   "cell_type": "markdown",
   "metadata": {},
   "source": [
    "Теперь мы можем, например, насладится рейтингом команты Virtus.pro, которая скрывается под тагом 'VP 2' "
   ]
  },
  {
   "cell_type": "code",
   "execution_count": 21,
   "metadata": {
    "collapsed": false
   },
   "outputs": [
    {
     "data": {
      "text/latex": [
       "$\\mathcal{ N }( 28.540, 0.825^2 )$"
      ],
      "text/plain": [
       "trueskill.Rating(mu=28.540, sigma=0.825)"
      ]
     },
     "execution_count": 21,
     "metadata": {},
     "output_type": "execute_result"
    }
   ],
   "source": [
    "Rates_rec_data['CDEC Gaming' ]"
   ]
  },
  {
   "cell_type": "markdown",
   "metadata": {},
   "source": [
    "Попробуем оценить вероятность победы Virtus.pro, например, в матче с Evil Genius.\n",
    "К сожалению в библиотеке trueskill, нет возможности оценить вероятность, но мы же знаем из описания,\n",
    "что рейтинги тут нормально распределенные. Так что сделаем функцию, которая оценит вероятность, \n",
    "что сила игры первой команды, будет больше чем у второй."
   ]
  },
  {
   "cell_type": "code",
   "execution_count": 10,
   "metadata": {
    "collapsed": true
   },
   "outputs": [],
   "source": [
    "def win_probability(player_rating, opponent_rating):\n",
    "    delta_mu = player_rating.mu - opponent_rating.mu\n",
    "    denom = sqrt(2 * (BETA * BETA) + pow(player_rating.sigma, 2) + pow(opponent_rating.sigma, 2))\n",
    "    return cdf(delta_mu / denom)"
   ]
  },
  {
   "cell_type": "markdown",
   "metadata": {},
   "source": [
    "Ура, теперь мы можем оценить шансы."
   ]
  },
  {
   "cell_type": "code",
   "execution_count": null,
   "metadata": {
    "collapsed": false
   },
   "outputs": [],
   "source": [
    "win_probability(Rates['VP 2'], Rates['EG'])"
   ]
  },
  {
   "cell_type": "markdown",
   "metadata": {},
   "source": [
    "Система сказала, что шансы почти равные. Теперь полученную оценку можно загрузить на сайт в качетве прогноза. \n",
    "Как это сделать расказанно [тут](https://github.com/romovpa/dotascience-hackathon/blob/master/README.md)."
   ]
  },
  {
   "cell_type": "code",
   "execution_count": 11,
   "metadata": {
    "collapsed": false
   },
   "outputs": [],
   "source": [
    "def sort_by_rating(team):\n",
    "    return float(team[1])\n",
    "\n",
    "def sort_by_rating(R):\n",
    "    rates_simple = []\n",
    "    print(type(R))\n",
    "    for k in R:\n",
    "        #print(k)\n",
    "        row = [k, R[k].mu, R[k].sigma]\n",
    "        rates_simple.append(row)\n",
    "\n",
    "    #pd.DataFrame(rates_simple).to_csv('rates_simple.csv')\n",
    "\n",
    "    #sorted_rates_simple = sorted(rates_simple, key = sort_by_rating)\n",
    "    return rates_simple"
   ]
  },
  {
   "cell_type": "code",
   "execution_count": 12,
   "metadata": {
    "collapsed": false
   },
   "outputs": [
    {
     "data": {
      "text/latex": [
       "$\\mathcal{ N }( 25.455, 0.835^2 )$"
      ],
      "text/plain": [
       "trueskill.Rating(mu=25.455, sigma=0.835)"
      ]
     },
     "execution_count": 12,
     "metadata": {},
     "output_type": "execute_result"
    }
   ],
   "source": [
    "Rates_rec_data['MVP Phoenix']"
   ]
  },
  {
   "cell_type": "code",
   "execution_count": null,
   "metadata": {
    "collapsed": false
   },
   "outputs": [],
   "source": [
    "#sort_by_rating(Rates_rec_data)"
   ]
  },
  {
   "cell_type": "code",
   "execution_count": 13,
   "metadata": {
    "collapsed": false
   },
   "outputs": [
    {
     "data": {
      "text/plain": [
       "5.919599884281653"
      ]
     },
     "execution_count": 13,
     "metadata": {},
     "output_type": "execute_result"
    }
   ],
   "source": [
    "Rates_rec_data['Recovery Position'].sigma"
   ]
  },
  {
   "cell_type": "code",
   "execution_count": 14,
   "metadata": {
    "collapsed": false
   },
   "outputs": [],
   "source": [
    "current_major_data = pd.read_json('major_results.json').transpose()"
   ]
  },
  {
   "cell_type": "code",
   "execution_count": 15,
   "metadata": {
    "collapsed": false
   },
   "outputs": [],
   "source": [
    "Rates_major = {}\n",
    "\n",
    "for index, row in current_major_data.iterrows():\n",
    "    team1 = row['radiant']\n",
    "    team2 = row['dire']\n",
    "    if team1 not in Rates_major:\n",
    "        Rates_major[team1] = trueskill.Rating()\n",
    "    if team2 not in Rates_major:\n",
    "        Rates_major[team2] = trueskill.Rating()\n",
    "    if row['winner'] == 'RADIANT':\n",
    "        Rates_major[team1], Rates_major[team2] = trueskill.rate_1vs1(Rates_major[team1], Rates_major[team2])\n",
    "    else:\n",
    "        Rates_major[team2], Rates_major[team1] = trueskill.rate_1vs1(Rates_major[team2], Rates_major[team1])\n",
    "        "
   ]
  },
  {
   "cell_type": "code",
   "execution_count": null,
   "metadata": {
    "collapsed": false
   },
   "outputs": [],
   "source": []
  },
  {
   "cell_type": "code",
   "execution_count": 25,
   "metadata": {
    "collapsed": false
   },
   "outputs": [
    {
     "name": "stdout",
     "output_type": "stream",
     "text": [
      "<type 'dict'>\n"
     ]
    },
    {
     "ename": "NameError",
     "evalue": "global name 'sorted_rates_simple' is not defined",
     "output_type": "error",
     "traceback": [
      "\u001b[1;31m---------------------------------------------------------------------------\u001b[0m",
      "\u001b[1;31mNameError\u001b[0m                                 Traceback (most recent call last)",
      "\u001b[1;32m<ipython-input-25-0851ff0d048d>\u001b[0m in \u001b[0;36m<module>\u001b[1;34m()\u001b[0m\n\u001b[1;32m----> 1\u001b[1;33m \u001b[0msort_by_rating\u001b[0m\u001b[1;33m(\u001b[0m\u001b[0mRates_rec_data\u001b[0m\u001b[1;33m)\u001b[0m\u001b[1;33m\u001b[0m\u001b[0m\n\u001b[0m",
      "\u001b[1;32m<ipython-input-24-0c1e070ef773>\u001b[0m in \u001b[0;36msort_by_rating\u001b[1;34m(R)\u001b[0m\n\u001b[0;32m     13\u001b[0m \u001b[1;33m\u001b[0m\u001b[0m\n\u001b[0;32m     14\u001b[0m     \u001b[1;31m#sorted_rates_simple = sorted(rates_simple, key = sort_by_rating)\u001b[0m\u001b[1;33m\u001b[0m\u001b[1;33m\u001b[0m\u001b[0m\n\u001b[1;32m---> 15\u001b[1;33m     \u001b[1;32mreturn\u001b[0m \u001b[0msorted_rates_simple\u001b[0m\u001b[1;33m\u001b[0m\u001b[0m\n\u001b[0m",
      "\u001b[1;31mNameError\u001b[0m: global name 'sorted_rates_simple' is not defined"
     ]
    }
   ],
   "source": [
    "sort_by_rating(Rates_rec_data)"
   ]
  },
  {
   "cell_type": "code",
   "execution_count": 12,
   "metadata": {
    "collapsed": false
   },
   "outputs": [
    {
     "name": "stdout",
     "output_type": "stream",
     "text": [
      "<type 'dict'>\n"
     ]
    }
   ],
   "source": [
    "pd.DataFrame(sort_by_rating(Rates_rec_data)).to_csv('rank_.csv')"
   ]
  },
  {
   "cell_type": "code",
   "execution_count": 9,
   "metadata": {
    "collapsed": false
   },
   "outputs": [
    {
     "ename": "TypeError",
     "evalue": "object of type 'Rating' has no len()",
     "output_type": "error",
     "traceback": [
      "\u001b[1;31m---------------------------------------------------------------------------\u001b[0m",
      "\u001b[1;31mTypeError\u001b[0m                                 Traceback (most recent call last)",
      "\u001b[1;32m<ipython-input-9-085d5b4f2332>\u001b[0m in \u001b[0;36m<module>\u001b[1;34m()\u001b[0m\n\u001b[1;32m----> 1\u001b[1;33m \u001b[0mpd\u001b[0m\u001b[1;33m.\u001b[0m\u001b[0mDataFrame\u001b[0m\u001b[1;33m(\u001b[0m\u001b[0mRates_rec_data\u001b[0m\u001b[1;33m)\u001b[0m\u001b[1;33m\u001b[0m\u001b[0m\n\u001b[0m",
      "\u001b[1;32m/home/anton/anaconda2/lib/python2.7/site-packages/pandas/core/frame.pyc\u001b[0m in \u001b[0;36m__init__\u001b[1;34m(self, data, index, columns, dtype, copy)\u001b[0m\n\u001b[0;32m    224\u001b[0m                                  dtype=dtype, copy=copy)\n\u001b[0;32m    225\u001b[0m         \u001b[1;32melif\u001b[0m \u001b[0misinstance\u001b[0m\u001b[1;33m(\u001b[0m\u001b[0mdata\u001b[0m\u001b[1;33m,\u001b[0m \u001b[0mdict\u001b[0m\u001b[1;33m)\u001b[0m\u001b[1;33m:\u001b[0m\u001b[1;33m\u001b[0m\u001b[0m\n\u001b[1;32m--> 226\u001b[1;33m             \u001b[0mmgr\u001b[0m \u001b[1;33m=\u001b[0m \u001b[0mself\u001b[0m\u001b[1;33m.\u001b[0m\u001b[0m_init_dict\u001b[0m\u001b[1;33m(\u001b[0m\u001b[0mdata\u001b[0m\u001b[1;33m,\u001b[0m \u001b[0mindex\u001b[0m\u001b[1;33m,\u001b[0m \u001b[0mcolumns\u001b[0m\u001b[1;33m,\u001b[0m \u001b[0mdtype\u001b[0m\u001b[1;33m=\u001b[0m\u001b[0mdtype\u001b[0m\u001b[1;33m)\u001b[0m\u001b[1;33m\u001b[0m\u001b[0m\n\u001b[0m\u001b[0;32m    227\u001b[0m         \u001b[1;32melif\u001b[0m \u001b[0misinstance\u001b[0m\u001b[1;33m(\u001b[0m\u001b[0mdata\u001b[0m\u001b[1;33m,\u001b[0m \u001b[0mma\u001b[0m\u001b[1;33m.\u001b[0m\u001b[0mMaskedArray\u001b[0m\u001b[1;33m)\u001b[0m\u001b[1;33m:\u001b[0m\u001b[1;33m\u001b[0m\u001b[0m\n\u001b[0;32m    228\u001b[0m             \u001b[1;32mimport\u001b[0m \u001b[0mnumpy\u001b[0m\u001b[1;33m.\u001b[0m\u001b[0mma\u001b[0m\u001b[1;33m.\u001b[0m\u001b[0mmrecords\u001b[0m \u001b[1;32mas\u001b[0m \u001b[0mmrecords\u001b[0m\u001b[1;33m\u001b[0m\u001b[0m\n",
      "\u001b[1;32m/home/anton/anaconda2/lib/python2.7/site-packages/pandas/core/frame.pyc\u001b[0m in \u001b[0;36m_init_dict\u001b[1;34m(self, data, index, columns, dtype)\u001b[0m\n\u001b[0;32m    361\u001b[0m \u001b[1;33m\u001b[0m\u001b[0m\n\u001b[0;32m    362\u001b[0m         return _arrays_to_mgr(arrays, data_names, index, columns,\n\u001b[1;32m--> 363\u001b[1;33m                               dtype=dtype)\n\u001b[0m\u001b[0;32m    364\u001b[0m \u001b[1;33m\u001b[0m\u001b[0m\n\u001b[0;32m    365\u001b[0m     def _init_ndarray(self, values, index, columns, dtype=None,\n",
      "\u001b[1;32m/home/anton/anaconda2/lib/python2.7/site-packages/pandas/core/frame.pyc\u001b[0m in \u001b[0;36m_arrays_to_mgr\u001b[1;34m(arrays, arr_names, index, columns, dtype)\u001b[0m\n\u001b[0;32m   5156\u001b[0m     \u001b[1;31m# figure out the index, if necessary\u001b[0m\u001b[1;33m\u001b[0m\u001b[1;33m\u001b[0m\u001b[0m\n\u001b[0;32m   5157\u001b[0m     \u001b[1;32mif\u001b[0m \u001b[0mindex\u001b[0m \u001b[1;32mis\u001b[0m \u001b[0mNone\u001b[0m\u001b[1;33m:\u001b[0m\u001b[1;33m\u001b[0m\u001b[0m\n\u001b[1;32m-> 5158\u001b[1;33m         \u001b[0mindex\u001b[0m \u001b[1;33m=\u001b[0m \u001b[0mextract_index\u001b[0m\u001b[1;33m(\u001b[0m\u001b[0marrays\u001b[0m\u001b[1;33m)\u001b[0m\u001b[1;33m\u001b[0m\u001b[0m\n\u001b[0m\u001b[0;32m   5159\u001b[0m     \u001b[1;32melse\u001b[0m\u001b[1;33m:\u001b[0m\u001b[1;33m\u001b[0m\u001b[0m\n\u001b[0;32m   5160\u001b[0m         \u001b[0mindex\u001b[0m \u001b[1;33m=\u001b[0m \u001b[0m_ensure_index\u001b[0m\u001b[1;33m(\u001b[0m\u001b[0mindex\u001b[0m\u001b[1;33m)\u001b[0m\u001b[1;33m\u001b[0m\u001b[0m\n",
      "\u001b[1;32m/home/anton/anaconda2/lib/python2.7/site-packages/pandas/core/frame.pyc\u001b[0m in \u001b[0;36mextract_index\u001b[1;34m(data)\u001b[0m\n\u001b[0;32m   5192\u001b[0m             \u001b[1;32melif\u001b[0m \u001b[0mis_list_like\u001b[0m\u001b[1;33m(\u001b[0m\u001b[0mv\u001b[0m\u001b[1;33m)\u001b[0m \u001b[1;32mand\u001b[0m \u001b[0mgetattr\u001b[0m\u001b[1;33m(\u001b[0m\u001b[0mv\u001b[0m\u001b[1;33m,\u001b[0m \u001b[1;34m'ndim'\u001b[0m\u001b[1;33m,\u001b[0m \u001b[1;36m1\u001b[0m\u001b[1;33m)\u001b[0m \u001b[1;33m==\u001b[0m \u001b[1;36m1\u001b[0m\u001b[1;33m:\u001b[0m\u001b[1;33m\u001b[0m\u001b[0m\n\u001b[0;32m   5193\u001b[0m                 \u001b[0mhave_raw_arrays\u001b[0m \u001b[1;33m=\u001b[0m \u001b[0mTrue\u001b[0m\u001b[1;33m\u001b[0m\u001b[0m\n\u001b[1;32m-> 5194\u001b[1;33m                 \u001b[0mraw_lengths\u001b[0m\u001b[1;33m.\u001b[0m\u001b[0mappend\u001b[0m\u001b[1;33m(\u001b[0m\u001b[0mlen\u001b[0m\u001b[1;33m(\u001b[0m\u001b[0mv\u001b[0m\u001b[1;33m)\u001b[0m\u001b[1;33m)\u001b[0m\u001b[1;33m\u001b[0m\u001b[0m\n\u001b[0m\u001b[0;32m   5195\u001b[0m \u001b[1;33m\u001b[0m\u001b[0m\n\u001b[0;32m   5196\u001b[0m         \u001b[1;32mif\u001b[0m \u001b[1;32mnot\u001b[0m \u001b[0mindexes\u001b[0m \u001b[1;32mand\u001b[0m \u001b[1;32mnot\u001b[0m \u001b[0mraw_lengths\u001b[0m\u001b[1;33m:\u001b[0m\u001b[1;33m\u001b[0m\u001b[0m\n",
      "\u001b[1;31mTypeError\u001b[0m: object of type 'Rating' has no len()"
     ]
    }
   ],
   "source": [
    "pd.DataFrame(Rates_rec_data)"
   ]
  },
  {
   "cell_type": "code",
   "execution_count": 14,
   "metadata": {
    "collapsed": false
   },
   "outputs": [
    {
     "data": {
      "text/latex": [
       "$\\mathcal{ N }( 25.000, 8.333^2 )$"
      ],
      "text/plain": [
       "trueskill.Rating(mu=25.000, sigma=8.333)"
      ]
     },
     "execution_count": 14,
     "metadata": {},
     "output_type": "execute_result"
    }
   ],
   "source": [
    "trueskill.Rating()"
   ]
  },
  {
   "cell_type": "code",
   "execution_count": null,
   "metadata": {
    "collapsed": true
   },
   "outputs": [],
   "source": []
  }
 ],
 "metadata": {
  "kernelspec": {
   "display_name": "Python 2",
   "language": "python",
   "name": "python2"
  },
  "language_info": {
   "codemirror_mode": {
    "name": "ipython",
    "version": 2
   },
   "file_extension": ".py",
   "mimetype": "text/x-python",
   "name": "python",
   "nbconvert_exporter": "python",
   "pygments_lexer": "ipython2",
   "version": "2.7.11"
  }
 },
 "nbformat": 4,
 "nbformat_minor": 0
}
