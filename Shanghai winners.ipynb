{
 "cells": [
  {
   "cell_type": "code",
   "execution_count": null,
   "metadata": {
    "collapsed": true
   },
   "outputs": [],
   "source": [
    "import pandas as pd\n",
    "import numpy as np\n",
    "import matplotlib.pyplot as plt\n",
    "import json\n",
    "\n",
    "from sklearn import linear_model\n",
    "from sklearn import neighbors\n",
    "from sklearn import svm as svm_classifier\n",
    "from sklearn.metrics import make_scorer\n",
    "from sklearn.externals import joblib\n",
    "\n",
    "from trueskill import BETA\n",
    "from math import sqrt\n",
    "from trueskill.backends import cdf"
   ]
  },
  {
   "cell_type": "code",
   "execution_count": null,
   "metadata": {
    "collapsed": true
   },
   "outputs": [],
   "source": [
    "rank = pd.read_csv('rank_.csv')\n",
    "\n",
    "svm = joblib.load('./ready_models/svm_picks_rates.pkl')\n",
    "logreg = joblib.load('./ready_models/logreg_picks_rates.pkl')\n",
    "\n",
    "joblib.dump(logreg, './ready_models/logreg_picks_rates.pkl')"
   ]
  },
  {
   "cell_type": "code",
   "execution_count": null,
   "metadata": {
    "collapsed": false
   },
   "outputs": [],
   "source": [
    "def encodeHeroes(radiant_pick, dire_pick):\n",
    "    onehotheroes = np.zeros(228)\n",
    "    for hero in radiant_pick:\n",
    "        if hero != 0:\n",
    "            onehotheroes[hero] = 1\n",
    "    for hero in dire_pick:\n",
    "        if hero != 0:\n",
    "            onehotheroes[hero + 114] = 1\n",
    "    return onehotheroes"
   ]
  },
  {
   "cell_type": "code",
   "execution_count": null,
   "metadata": {
    "collapsed": false
   },
   "outputs": [],
   "source": [
    "def scoreFunc(y, y_pred):\n",
    "    if y == 1: \n",
    "        if np.log2(y_pred) < -5:\n",
    "            return -5\n",
    "        return np.log2(y_pred) + 1\n",
    "    else:\n",
    "        if np.log2(1 - y_pred) < -5:\n",
    "            return -5\n",
    "        return np.log2(1 - y_pred) + 1\n",
    "log_score = make_scorer(scoreFunc)"
   ]
  },
  {
   "cell_type": "code",
   "execution_count": null,
   "metadata": {
    "collapsed": false
   },
   "outputs": [],
   "source": [
    "poly_and_rates = pd.read_csv('TimeWinRatesPoly.csv')\n",
    "polies = [[] for i in range(115)]\n",
    "for index, line in poly_and_rates.iterrows():\n",
    "    \n",
    "    pol = [line[6], line[7], line[8], line[9]]\n",
    "    polies[int(line[1])] = np.poly1d(pol)\n",
    "    \n",
    "def calcTeamWinRate(time, pick, polies):\n",
    "    rates = [polies[i](time) for i in pick]\n",
    "    return sum(rates)"
   ]
  },
  {
   "cell_type": "code",
   "execution_count": null,
   "metadata": {
    "collapsed": false
   },
   "outputs": [],
   "source": [
    "def get_worth(match):\n",
    "    radiant_gold_xp = [0,0]\n",
    "    dire_gold_xp = [0,0]\n",
    "    \n",
    "#     get_pick\n",
    "\n",
    "    radiant_pick = []\n",
    "    dire_pick = []\n",
    "    try:    \n",
    "        radiant_players = match[\"scoreboard\"].values[0][\"radiant\"][\"players\"]\n",
    "        dire_players = match[\"scoreboard\"].values[0][\"dire\"][\"players\"]\n",
    "        time = match[\"scoreboard\"].values[0][\"duration\"]\n",
    "        #     print time\n",
    "        for i in radiant_players:\n",
    "            radiant_pick.append(i[\"hero_id\"])\n",
    "            radiant_gold_xp[0]+=i[\"net_worth\"]\n",
    "            radiant_gold_xp[1]+=i[\"xp_per_min\"]*float(time)/60\n",
    "        for i in dire_players:\n",
    "            dire_pick.append(i[\"hero_id\"])\n",
    "            dire_gold_xp[0]+=i[\"net_worth\"]\n",
    "            dire_gold_xp[1]+=i[\"xp_per_min\"]*float(time)/60\n",
    "        radiant_name = match[\"radiant_team\"].values[0][\"team_name\"]\n",
    "        dire_name = match[\"dire_team\"].values[0][\"team_name\"]    \n",
    "\n",
    "    except:\n",
    "        return -1\n",
    "    return match[\"match_id\"].values[0],radiant_gold_xp, dire_gold_xp,radiant_pick,dire_pick,radiant_name,dire_name,time"
   ]
  },
  {
   "cell_type": "code",
   "execution_count": null,
   "metadata": {
    "collapsed": true
   },
   "outputs": [],
   "source": [
    "# XP GOLD PICKS TIME TEAMS\n",
    "def get_XP_GOLD_from_moment(current_match):\n",
    "    return get_worth(current_match)\n",
    "#     print current_match"
   ]
  },
  {
   "cell_type": "code",
   "execution_count": null,
   "metadata": {
    "collapsed": true
   },
   "outputs": [],
   "source": [
    "def get_information_about_one_match(df,match_id):\n",
    "    current_matches = df[df.match_id == match_id]\n",
    "#     print current_matches\n",
    "    result = []\n",
    "    for i in range (len(current_matches)):\n",
    "#     i = 3\n",
    "        result.append(get_XP_GOLD_from_moment(current_matches[i:i+1]))\n",
    "    return result\n",
    "#     print current_matches[0:1]\n",
    "        "
   ]
  },
  {
   "cell_type": "code",
   "execution_count": null,
   "metadata": {
    "collapsed": true
   },
   "outputs": [],
   "source": [
    "f = open('shanghai_live_league_games.jsonlines', 'r')\n",
    "alldata = []\n",
    "for line in f:\n",
    "        alldata.append(json.loads(line))\n",
    "df = pd.DataFrame((alldata))"
   ]
  },
  {
   "cell_type": "code",
   "execution_count": null,
   "metadata": {
    "collapsed": true
   },
   "outputs": [],
   "source": [
    "# get_information_about_one_match(df,2176488482)\n",
    "all_match_ids = df[\"match_id\"].unique()\n",
    "alldata = []\n",
    "for id in all_match_ids:\n",
    "    get = get_information_about_one_match(df,id)\n",
    "    if (get!=-1):\n",
    "        alldata.append(get)\n",
    "#THE_BIGGEST_ARRAY[1]"
   ]
  },
  {
   "cell_type": "code",
   "execution_count": null,
   "metadata": {
    "collapsed": false
   },
   "outputs": [],
   "source": [
    "timedata = []\n",
    "for match in alldata:\n",
    "    for timeevent in match:\n",
    "        timedata.append([timeevent])"
   ]
  },
  {
   "cell_type": "code",
   "execution_count": null,
   "metadata": {
    "collapsed": true
   },
   "outputs": [],
   "source": [
    "wins = pd.read_csv('match_results.csv')"
   ]
  },
  {
   "cell_type": "code",
   "execution_count": null,
   "metadata": {
    "collapsed": false
   },
   "outputs": [],
   "source": [
    "def win_probability(player_rating_mu, player_rating_sigma, opponent_rating_mu, opponent_rating_sigma):\n",
    "    delta_mu = player_rating_mu - opponent_rating_mu\n",
    "    denom = sqrt(2 * (BETA * BETA) + pow(player_rating_sigma, 2) + pow(opponent_rating_sigma, 2))\n",
    "    return cdf(delta_mu / denom)"
   ]
  },
  {
   "cell_type": "code",
   "execution_count": null,
   "metadata": {
    "collapsed": true
   },
   "outputs": [],
   "source": []
  },
  {
   "cell_type": "code",
   "execution_count": null,
   "metadata": {
    "collapsed": true
   },
   "outputs": [],
   "source": []
  },
  {
   "cell_type": "code",
   "execution_count": null,
   "metadata": {
    "collapsed": true
   },
   "outputs": [],
   "source": []
  },
  {
   "cell_type": "code",
   "execution_count": 341,
   "metadata": {
    "collapsed": false
   },
   "outputs": [],
   "source": [
    "data = pd.DataFrame(columns = ['logreg', 'svm', 'radiant_rank_win_prop', 'radiant_gold_percentage', 'radiant_exp_percentage', 'radiant_winrate_prop', 'winner'])\n",
    "\n",
    "err = 0 \n",
    "for m in timedata:\n",
    "    match = m[0]\n",
    "    try:\n",
    "\n",
    "        heroes = encodeHeroes(match[3], match[4])\n",
    "        radiant_win = wins[wins.match_id == match[0]].radiant_win.values\n",
    "\n",
    "        logreg_pred = logreg.predict_proba(np.array(list(heroes)).reshape(1, -1))[0][1]\n",
    "        svm_pred = svm.predict_proba(np.array(list(heroes)).reshape(1, -1))[0][1]\n",
    "        \n",
    "        if radiant_win:\n",
    "            winner = 1\n",
    "        else:\n",
    "            winner = 0\n",
    "        #if row['dire_name'] in rank['0'].values:\n",
    "        dire_rank_mu = 25\n",
    "        dire_rank_sigma = 8.3\n",
    "        radiant_rank_mu = 25\n",
    "        radiant_rank_sigma = 8.3\n",
    "\n",
    "        if match[5] in rank['0'].values:\n",
    "            radiant_rank_mu = rank[rank['0'] == match[5]]['1'].values[0]\n",
    "            radiant_rank_sigma = rank[rank['0'] == match[5]]['2'].values[0]\n",
    "        if match[6] in rank['0'].values:\n",
    "            dire_rank = rank[rank['0'] == match[6]]['1'].values[0]\n",
    "            dire_rank_sigma = rank[rank['0'] == match[6]]['1'].values[0]\n",
    "            \n",
    "        radiant_rank_win_prop = win_probability(radiant_rank_mu, radiant_rank_sigma, dire_rank_mu, dire_rank_sigma)\n",
    "        duration = match[-1]\n",
    "        \n",
    "        radiant_gold = match[1][0]\n",
    "        dire_gold = match[2][0]\n",
    "        radiant_gold_percentage = 0.5\n",
    "        if duration > 450:\n",
    "            radiant_gold_percentage = 1 / (1 + np.exp(float(radiant_gold - dire_gold) / 15000))\n",
    "        \n",
    "        radiant_exp = match[1][1]\n",
    "        dire_exp = match[2][1]\n",
    "        radiant_exp_percentage = 0.5\n",
    "        if duration > 450:\n",
    "            radiant_exp_percentage = 1 / (1 + np.exp(float(radiant_exp - dire_exp) / 15000))\n",
    "        \n",
    "        radiant_winrate_prop = 0.5\n",
    "        #print match[3]\n",
    "        #print match[4]\n",
    "        if not 0 in match[3] and not 0 in match[4]:\n",
    "            #print 'asasa'\n",
    "            radiant_winrate = calcTeamWinRate(duration, match[3], polies)\n",
    "            dire_winrate = calcTeamWinRate(duration, match[4], polies)\n",
    "\n",
    "            radiant_winrate_prop = 1 / (1 + np.exp((radiant_winrate - dire_winrate) * 2))\n",
    "        row = [logreg_pred, svm_pred, radiant_rank_win_prop, radiant_gold_percentage, radiant_exp_percentage, radiant_winrate_prop, winner]\n",
    "\n",
    "\n",
    "        data.loc[len(data)] = row\n",
    "    except:\n",
    "        err += 1"
   ]
  },
  {
   "cell_type": "code",
   "execution_count": 344,
   "metadata": {
    "collapsed": false
   },
   "outputs": [
    {
     "data": {
      "text/plain": [
       "0.3536147324643707"
      ]
     },
     "execution_count": 344,
     "metadata": {},
     "output_type": "execute_result"
    }
   ],
   "source": [
    "np.percentile(data.radiant_winrate_prop.values, 10)\n"
   ]
  },
  {
   "cell_type": "code",
   "execution_count": null,
   "metadata": {
    "collapsed": false
   },
   "outputs": [],
   "source": [
    "def splitData(data):\n",
    "    shuffled_data = data.iloc[np.random.permutation(len(data))]\n",
    "    shuffled_data.reset_index(drop=True)\n",
    "\n",
    "    train_data = shuffled_data[:int(len(shuffled_data) * 0.7)]\n",
    "    test_data = shuffled_data[int(len(shuffled_data) * 0.3):]\n",
    "\n",
    "    \n",
    "    return train_data, test_data\n",
    "\n",
    "def prepareAllData(data):\n",
    "    train_data, test_data = splitData(data)\n",
    "\n",
    "    X_train = train_data[data.columns[:-1]]\n",
    "\n",
    "    Y_train = train_data[data.columns[-1:]].values[:,-1].astype('float')\n",
    "\n",
    "    X_test = test_data[data.columns[:-1]]\n",
    "\n",
    "    Y_test = test_data[data.columns[-1:]].values[:,-1].astype('float')\n",
    "\n",
    "    return X_train, Y_train, X_test, Y_test"
   ]
  },
  {
   "cell_type": "code",
   "execution_count": 348,
   "metadata": {
    "collapsed": false
   },
   "outputs": [],
   "source": [
    "X_train, Y_train, X_test, Y_test = prepareAllData(data)"
   ]
  },
  {
   "cell_type": "code",
   "execution_count": null,
   "metadata": {
    "collapsed": false
   },
   "outputs": [],
   "source": [
    "from sklearn.grid_search import GridSearchCV\n",
    "\n",
    "weights = {'logreg' : 1,\n",
    "           'svm' : 1, \n",
    "           'radiant_rank_win_prop' : 1,\n",
    "           'radiant_gold_percentage' : 1,\n",
    "           'radiant_exp_percentage' : 1,\n",
    "           'radiant_winrate_prop' : 1}\n",
    "\n",
    "final_log_reg =  linear_model.LogisticRegression(C=1e5, class_weight=weights)\n",
    "test_w = [{'logreg' : i,\n",
    "           'svm' : i, \n",
    "           'radiant_rank_win_prop' : i,\n",
    "           'radiant_gold_percentage' : i,\n",
    "           'radiant_exp_percentage' : i,\n",
    "           'radiant_winrate_prop' : i}  for i in np.linspace(0, 1, 10)]\n",
    "\n",
    "grid = GridSearchCV(LinearSVC(), param_grid = [{'class_weight' :test_w}], scoring=log_score)\n",
    "\n",
    "grid.fit(X_train.values.astype('float'), Y_train)\n"
   ]
  },
  {
   "cell_type": "code",
   "execution_count": 311,
   "metadata": {
    "collapsed": true
   },
   "outputs": [],
   "source": [
    "def countCorrect(pred, label, round_flag = False):\n",
    "    bin_pred = pred #[round(i) for i in range(len(pred))]\n",
    "    if round_flag:\n",
    "        bin_pred = np.zeros(len(pred))\n",
    "        bin_pred[pred > 0.5] = 1\n",
    "    count = 0\n",
    "    for i in bin_pred == label:\n",
    "        if i:\n",
    "            count += 1\n",
    "\n",
    "    return float(count)/len(bin_pred)"
   ]
  },
  {
   "cell_type": "code",
   "execution_count": 349,
   "metadata": {
    "collapsed": false
   },
   "outputs": [
    {
     "name": "stdout",
     "output_type": "stream",
     "text": [
      "logreg: 0.713748984565\n"
     ]
    },
    {
     "data": {
      "text/plain": [
       "['./ready_models/fin.pkl',\n",
       " './ready_models/fin.pkl_01.npy',\n",
       " './ready_models/fin.pkl_02.npy',\n",
       " './ready_models/fin.pkl_03.npy',\n",
       " './ready_models/fin.pkl_04.npy']"
      ]
     },
     "execution_count": 349,
     "metadata": {},
     "output_type": "execute_result"
    }
   ],
   "source": [
    "fin = linear_model.LogisticRegression(C=1e5)\n",
    "\n",
    "fin.fit(X_train, Y_train)\n",
    "\n",
    "\n",
    "fin_pred = fin.predict_proba(X_test)[:, 1]\n",
    "\n",
    "print('logreg: {0}'.format(countCorrect(fin_pred, Y_test, True)))\n",
    "\n",
    "joblib.dump(fin, './ready_models/fin.pkl') \n"
   ]
  },
  {
   "cell_type": "code",
   "execution_count": 350,
   "metadata": {
    "collapsed": false
   },
   "outputs": [
    {
     "data": {
      "text/html": [
       "<div>\n",
       "<table border=\"1\" class=\"dataframe\">\n",
       "  <thead>\n",
       "    <tr style=\"text-align: right;\">\n",
       "      <th></th>\n",
       "      <th>logreg</th>\n",
       "      <th>svm</th>\n",
       "      <th>radiant_rank_win_prop</th>\n",
       "      <th>radiant_gold_percentage</th>\n",
       "      <th>radiant_exp_percentage</th>\n",
       "      <th>radiant_winrate_prop</th>\n",
       "    </tr>\n",
       "  </thead>\n",
       "  <tbody>\n",
       "    <tr>\n",
       "      <th>12700</th>\n",
       "      <td>0.639051</td>\n",
       "      <td>0.50701</td>\n",
       "      <td>0.55568</td>\n",
       "      <td>0.870539</td>\n",
       "      <td>0.883074</td>\n",
       "      <td>0.448339</td>\n",
       "    </tr>\n",
       "  </tbody>\n",
       "</table>\n",
       "</div>"
      ],
      "text/plain": [
       "         logreg      svm  radiant_rank_win_prop  radiant_gold_percentage  \\\n",
       "12700  0.639051  0.50701                0.55568                 0.870539   \n",
       "\n",
       "       radiant_exp_percentage  radiant_winrate_prop  \n",
       "12700                0.883074              0.448339  "
      ]
     },
     "execution_count": 350,
     "metadata": {},
     "output_type": "execute_result"
    }
   ],
   "source": [
    "X_test[1:2] "
   ]
  },
  {
   "cell_type": "code",
   "execution_count": 355,
   "metadata": {
    "collapsed": false
   },
   "outputs": [
    {
     "data": {
      "text/plain": [
       "0.82967816723970689"
      ]
     },
     "execution_count": 355,
     "metadata": {},
     "output_type": "execute_result"
    }
   ],
   "source": [
    "np.percentile(fin_pred, 90)"
   ]
  },
  {
   "cell_type": "code",
   "execution_count": 367,
   "metadata": {
    "collapsed": false
   },
   "outputs": [],
   "source": [
    "#X_test[fin_pred > 0.90]"
   ]
  },
  {
   "cell_type": "code",
   "execution_count": 357,
   "metadata": {
    "collapsed": false
   },
   "outputs": [
    {
     "data": {
      "text/plain": [
       "array([False, False, False, ..., False, False,  True], dtype=bool)"
      ]
     },
     "execution_count": 357,
     "metadata": {},
     "output_type": "execute_result"
    }
   ],
   "source": [
    "fin_pred > 0.90"
   ]
  },
  {
   "cell_type": "code",
   "execution_count": 359,
   "metadata": {
    "collapsed": false
   },
   "outputs": [
    {
     "ename": "SyntaxError",
     "evalue": "invalid syntax (<ipython-input-359-0e4b5c099d36>, line 3)",
     "output_type": "error",
     "traceback": [
      "\u001b[1;36m  File \u001b[1;32m\"<ipython-input-359-0e4b5c099d36>\"\u001b[1;36m, line \u001b[1;32m3\u001b[0m\n\u001b[1;33m    for row in\u001b[0m\n\u001b[1;37m               ^\u001b[0m\n\u001b[1;31mSyntaxError\u001b[0m\u001b[1;31m:\u001b[0m invalid syntax\n"
     ]
    }
   ],
   "source": [
    "superpred = []\n",
    "\n",
    "for row in "
   ]
  },
  {
   "cell_type": "code",
   "execution_count": 366,
   "metadata": {
    "collapsed": false
   },
   "outputs": [
    {
     "data": {
      "text/html": [
       "<div>\n",
       "<table border=\"1\" class=\"dataframe\">\n",
       "  <thead>\n",
       "    <tr style=\"text-align: right;\">\n",
       "      <th></th>\n",
       "      <th>Unnamed: 0</th>\n",
       "      <th>0</th>\n",
       "      <th>1</th>\n",
       "      <th>2</th>\n",
       "    </tr>\n",
       "  </thead>\n",
       "  <tbody>\n",
       "    <tr>\n",
       "      <th>201</th>\n",
       "      <td>201</td>\n",
       "      <td>Team Secret</td>\n",
       "      <td>31.076908</td>\n",
       "      <td>0.811236</td>\n",
       "    </tr>\n",
       "  </tbody>\n",
       "</table>\n",
       "</div>"
      ],
      "text/plain": [
       "     Unnamed: 0            0          1         2\n",
       "201         201  Team Secret  31.076908  0.811236"
      ]
     },
     "execution_count": 366,
     "metadata": {},
     "output_type": "execute_result"
    }
   ],
   "source": []
  },
  {
   "cell_type": "code",
   "execution_count": null,
   "metadata": {
    "collapsed": true
   },
   "outputs": [],
   "source": []
  }
 ],
 "metadata": {
  "kernelspec": {
   "display_name": "Python 2",
   "language": "python",
   "name": "python2"
  },
  "language_info": {
   "codemirror_mode": {
    "name": "ipython",
    "version": 2
   },
   "file_extension": ".py",
   "mimetype": "text/x-python",
   "name": "python",
   "nbconvert_exporter": "python",
   "pygments_lexer": "ipython2",
   "version": "2.7.11"
  }
 },
 "nbformat": 4,
 "nbformat_minor": 0
}
