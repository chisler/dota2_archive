{
 "cells": [
  {
   "cell_type": "code",
   "execution_count": null,
   "metadata": {
    "collapsed": true
   },
   "outputs": [],
   "source": []
  },
  {
   "cell_type": "code",
   "execution_count": 1,
   "metadata": {
    "collapsed": true
   },
   "outputs": [],
   "source": [
    "import pandas as pd\n",
    "import numpy as np\n",
    "import operator"
   ]
  },
  {
   "cell_type": "code",
   "execution_count": 2,
   "metadata": {
    "collapsed": false
   },
   "outputs": [],
   "source": [
    "data = pd.read_csv('selected_team_matches.csv')"
   ]
  },
  {
   "cell_type": "code",
   "execution_count": 3,
   "metadata": {
    "collapsed": false
   },
   "outputs": [],
   "source": [
    "recent = data[2500:]\n",
    "\n",
    "target_teams = recent.radiant.value_counts()[:20].index.values"
   ]
  },
  {
   "cell_type": "code",
   "execution_count": 4,
   "metadata": {
    "collapsed": true
   },
   "outputs": [],
   "source": [
    "class Team:\n",
    "    def __init__(self, name, rating = 1):\n",
    "        self.name = name\n",
    "        self.rating = rating"
   ]
  },
  {
   "cell_type": "code",
   "execution_count": 5,
   "metadata": {
    "collapsed": false
   },
   "outputs": [],
   "source": [
    "def calcEloDiff(Ra, Rb): \n",
    "    return (1 / (1 + np.power(10, (Rb - Ra)/400))) , (1 / (1 + np.power(10, (Ra - Rb)/400)))\n",
    "\n",
    "def calcNewRating(rating, dire_name, radiant_name, winner):\n",
    "    dire_E, radiant_E = calcEloDiff(rating[dire_name], rating[radiant_name])\n",
    "    K = 0.5\n",
    "    rating[dire_name] =+ K * ((1 - winner) - dire_E)\n",
    "    rating[radiant_name] =+ K * (winner - radiant_E)\n",
    "    #print(dire_rating, radiant_rating)\n",
    "        "
   ]
  },
  {
   "cell_type": "code",
   "execution_count": 6,
   "metadata": {
    "collapsed": false
   },
   "outputs": [],
   "source": [
    "unique = pd.concat([recent.radiant, recent.dire]).unique()\n",
    "\n",
    "rating = dict(zip(unique, [1]*len(unique)))"
   ]
  },
  {
   "cell_type": "code",
   "execution_count": null,
   "metadata": {
    "collapsed": false
   },
   "outputs": [],
   "source": []
  },
  {
   "cell_type": "code",
   "execution_count": 7,
   "metadata": {
    "collapsed": false
   },
   "outputs": [],
   "source": [
    "for match in recent.values:\n",
    "    if (match[2] in target_teams) or (match[3] in target_teams):\n",
    "        if match[4] == 'radiant':\n",
    "            winner = 1\n",
    "        else:\n",
    "            winner = 0\n",
    "        calcNewRating(rating, match[3], match[2], winner)"
   ]
  },
  {
   "cell_type": "code",
   "execution_count": 8,
   "metadata": {
    "collapsed": false
   },
   "outputs": [],
   "source": [
    "sorted_x = sorted(rating.items(), key=operator.itemgetter(1))"
   ]
  },
  {
   "cell_type": "code",
   "execution_count": 170,
   "metadata": {
    "collapsed": false
   },
   "outputs": [
    {
     "data": {
      "text/plain": [
       "[('DW', -0.2503602971801176),\n",
       " ('GB', -0.25036029717958225),\n",
       " ('123', -0.25036029717958186),\n",
       " ('ESD', -0.25036029680755806),\n",
       " ('Power Rangers', -0.25036029587629399),\n",
       " ('MFF', -0.25035977941752768),\n",
       " ('hehe united', -0.2503597790449672),\n",
       " ('Newbee.Y', -0.25035977867321146),\n",
       " ('Archon', -0.25035977867240589),\n",
       " ('RP 2', -0.25035977867213838),\n",
       " ('Vega', -0.25035977829984751),\n",
       " ('KungFu', -0.25035977829984712),\n",
       " ('PoF 2', -0.25035926165546701),\n",
       " ('ATN', -0.25035926165546646),\n",
       " ('FanTuan', -0.25035926128277236),\n",
       " ('G00mba', -0.2503592609103491),\n",
       " ('PD 2', -0.25000051739097218),\n",
       " ('TNC', -0.2500005173907035),\n",
       " ('XctN 2', -0.25000025869568682),\n",
       " ('Rocket', -0.25000025869535158),\n",
       " ('COOKISS', -0.25000025850940677),\n",
       " ('MVP Phoenix', -0.25000000037188985),\n",
       " ('EHOME.K 2', -0.24999999981371934),\n",
       " ('Wings', -0.24999999962730579),\n",
       " ('LGD.cn', -0.24999974111897202),\n",
       " ('TSpirit', -0.24999948186350707),\n",
       " ('OG', -0.2496407394627484),\n",
       " ('TBE 2', -0.24964073909072554),\n",
       " ('VB', -0.2496407390891163),\n",
       " ('VP 2', -0.2496407389035066),\n",
       " ('NoT', -0.24964073871816467),\n",
       " ('Team Unknown', -0.24964073834506972),\n",
       " ('TeamYP', -0.24964073834480105),\n",
       " ('VG', -0.24964073834453374),\n",
       " ('STEAK', -0.24964048002287928),\n",
       " ('AF 3', -0.2496404800224776),\n",
       " ('PRIES 2', -0.24964047983659887),\n",
       " ('NaVi', -0.24964047983566084),\n",
       " ('Redeem', -0.249640479463905),\n",
       " ('coL 2', -0.24964022207324821),\n",
       " ('4ASC', -0.24964022132705641),\n",
       " ('HR', -0.24964022095556967),\n",
       " ('First Departure', -0.24964022058354537),\n",
       " ('CL', -0.24963996244656528),\n",
       " ('Secret', -0.24963996244629644),\n",
       " ('MskiX', -0.24963970431172672),\n",
       " ('DC', -0.24963970431065485),\n",
       " ('EG', -0.24963970356553652),\n",
       " ('EHOME', 0.2496397035655365),\n",
       " ('CDEC.A', 0.2496397035660719),\n",
       " ('99', 0.24964022058193747),\n",
       " ('SFZ', 0.24964022058300961),\n",
       " ('E.Wolves', 0.24964022207324821),\n",
       " ('iG.V', 0.24964073908858053),\n",
       " ('FF', 0.24999948186350707),\n",
       " ('Shazam', 0.24999948260862676),\n",
       " ('Elements', 0.24999948260916216),\n",
       " ('NLG', 0.2499997407456056),\n",
       " ('Nb', 0.249999741118972),\n",
       " ('YeS 2', 0.24999999962743985),\n",
       " ('Archon 2', 0.24999999962824487),\n",
       " ('Mineski', 0.25000000037188985),\n",
       " ('iG', 0.25000000055857308),\n",
       " ('Enso', 0.2503592601641581),\n",
       " ('Alliance', 0.25035926016522803),\n",
       " ('Fnatic.MY', 0.25035926091061544),\n",
       " ('SiG.Tr', 0.25035951960442809),\n",
       " ('WG 2', 0.25035951997698691),\n",
       " ('C9', 0.25035951997739014),\n",
       " ('Empire', 0.25035951997752326),\n",
       " ('Way', 0.25035977867240666),\n",
       " ('NME', 0.25035977867240666),\n",
       " ('LvT', 0.25035977867294323),\n",
       " ('CDEC', 0.25035977867321146),\n",
       " ('Infamous 2', 0.25035977941752696),\n",
       " ('LC', 0.25036003792572653),\n",
       " ('DB 2', 0.25036029568827251),\n",
       " ('Liquid', 0.25036029643553404),\n",
       " ('Kaipi', 0.25036029680702171),\n",
       " ('Taring', 0.25036029680755839),\n",
       " ('NiP 2', 0.25036029680782551),\n",
       " ('CDEC.Y 2', 0.25036029717958064),\n",
       " ('DB 3', 0.25036029717958064),\n",
       " ('FTD.B', 0.25036029718011688),\n",
       " ('Mischief', 0.25036029718011832),\n",
       " ('TongFu', 0.25036029718065378)]"
      ]
     },
     "execution_count": 170,
     "metadata": {},
     "output_type": "execute_result"
    }
   ],
   "source": [
    "sorted_x "
   ]
  },
  {
   "cell_type": "code",
   "execution_count": 145,
   "metadata": {
    "collapsed": false
   },
   "outputs": [
    {
     "data": {
      "text/plain": [
       "Index([u'OG', u'Liquid', u'EHOME', u'TSpirit', u'Secret', u'VP 2', u'Alliance',\n",
       "       u'LGD.cn', u'VG', u'Nb', u'EG', u'Fnatic.MY', u'MVP Phoenix', u'coL 2',\n",
       "       u'Empire', u'CDEC', u'Vega', u'Archon', u'Mineski', u'DC'],\n",
       "      dtype='object')"
      ]
     },
     "execution_count": 145,
     "metadata": {},
     "output_type": "execute_result"
    }
   ],
   "source": [
    "recent.radiant.value_counts()[:20].index"
   ]
  },
  {
   "cell_type": "code",
   "execution_count": 161,
   "metadata": {
    "collapsed": false
   },
   "outputs": [
    {
     "data": {
      "text/plain": [
       "False"
      ]
     },
     "execution_count": 161,
     "metadata": {},
     "output_type": "execute_result"
    }
   ],
   "source": [
    "'asdasd' in target_teams"
   ]
  },
  {
   "cell_type": "raw",
   "metadata": {
    "collapsed": true
   },
   "source": [
    "taprget_teams = pd.concat([recent.radiant, recent.dire]).value_counts()[:16]\n"
   ]
  },
  {
   "cell_type": "code",
   "execution_count": 17,
   "metadata": {
    "collapsed": false
   },
   "outputs": [
    {
     "data": {
      "text/plain": [
       "array(['OG', 'Liquid', 'EHOME', 'TSpirit', 'Secret', 'VP 2', 'Alliance',\n",
       "       'LGD.cn', 'VG', 'Nb', 'EG', 'Fnatic.MY', 'MVP Phoenix', 'coL 2',\n",
       "       'Empire', 'CDEC', 'Vega', 'Archon', 'Mineski', 'DC'], dtype=object)"
      ]
     },
     "execution_count": 17,
     "metadata": {},
     "output_type": "execute_result"
    }
   ],
   "source": [
    "target_teams"
   ]
  },
  {
   "cell_type": "code",
   "execution_count": 18,
   "metadata": {
    "collapsed": false
   },
   "outputs": [
    {
     "data": {
      "text/html": [
       "<div>\n",
       "<table border=\"1\" class=\"dataframe\">\n",
       "  <thead>\n",
       "    <tr style=\"text-align: right;\">\n",
       "      <th></th>\n",
       "      <th>date</th>\n",
       "      <th>tournament</th>\n",
       "      <th>radiant</th>\n",
       "      <th>dire</th>\n",
       "      <th>winner</th>\n",
       "      <th>match_id</th>\n",
       "    </tr>\n",
       "  </thead>\n",
       "  <tbody>\n",
       "    <tr>\n",
       "      <th>0</th>\n",
       "      <td>2012-06-24</td>\n",
       "      <td>The Defense 2</td>\n",
       "      <td>WhA</td>\n",
       "      <td>EG</td>\n",
       "      <td>DIRE</td>\n",
       "      <td>22270148</td>\n",
       "    </tr>\n",
       "    <tr>\n",
       "      <th>1</th>\n",
       "      <td>2012-06-28</td>\n",
       "      <td>The Defense 2</td>\n",
       "      <td>Unknown</td>\n",
       "      <td>EG</td>\n",
       "      <td>DIRE</td>\n",
       "      <td>22959375</td>\n",
       "    </tr>\n",
       "    <tr>\n",
       "      <th>2</th>\n",
       "      <td>2012-06-29</td>\n",
       "      <td>StarSeries II Finals</td>\n",
       "      <td>EG</td>\n",
       "      <td>Empire</td>\n",
       "      <td>DIRE</td>\n",
       "      <td>23152391</td>\n",
       "    </tr>\n",
       "    <tr>\n",
       "      <th>3</th>\n",
       "      <td>2012-06-29</td>\n",
       "      <td>StarSeries II Finals</td>\n",
       "      <td>EG</td>\n",
       "      <td>NEXT.kz</td>\n",
       "      <td>RADIANT</td>\n",
       "      <td>23160256</td>\n",
       "    </tr>\n",
       "    <tr>\n",
       "      <th>4</th>\n",
       "      <td>2012-07-11</td>\n",
       "      <td>The Defense 2</td>\n",
       "      <td>EG</td>\n",
       "      <td>Unknown</td>\n",
       "      <td>DIRE</td>\n",
       "      <td>25449321</td>\n",
       "    </tr>\n",
       "    <tr>\n",
       "      <th>5</th>\n",
       "      <td>2012-07-17</td>\n",
       "      <td>BTS World Tour</td>\n",
       "      <td>EG</td>\n",
       "      <td>Unknown</td>\n",
       "      <td>RADIANT</td>\n",
       "      <td>26658780</td>\n",
       "    </tr>\n",
       "    <tr>\n",
       "      <th>6</th>\n",
       "      <td>2012-07-17</td>\n",
       "      <td>BTS World Tour</td>\n",
       "      <td>Unknown</td>\n",
       "      <td>EG</td>\n",
       "      <td>DIRE</td>\n",
       "      <td>26649858</td>\n",
       "    </tr>\n",
       "    <tr>\n",
       "      <th>7</th>\n",
       "      <td>2012-07-19</td>\n",
       "      <td>The Defense 2</td>\n",
       "      <td>EG</td>\n",
       "      <td>Unknown</td>\n",
       "      <td>RADIANT</td>\n",
       "      <td>27042254</td>\n",
       "    </tr>\n",
       "    <tr>\n",
       "      <th>8</th>\n",
       "      <td>2012-07-19</td>\n",
       "      <td>The Defense 2</td>\n",
       "      <td>Unknown</td>\n",
       "      <td>EG</td>\n",
       "      <td>DIRE</td>\n",
       "      <td>27051421</td>\n",
       "    </tr>\n",
       "    <tr>\n",
       "      <th>9</th>\n",
       "      <td>2012-07-27</td>\n",
       "      <td>The Defense 2</td>\n",
       "      <td>EG</td>\n",
       "      <td>Unknown</td>\n",
       "      <td>RADIANT</td>\n",
       "      <td>28705062</td>\n",
       "    </tr>\n",
       "  </tbody>\n",
       "</table>\n",
       "</div>"
      ],
      "text/plain": [
       "         date            tournament  radiant     dire   winner  match_id\n",
       "0  2012-06-24         The Defense 2      WhA       EG     DIRE  22270148\n",
       "1  2012-06-28         The Defense 2  Unknown       EG     DIRE  22959375\n",
       "2  2012-06-29  StarSeries II Finals       EG   Empire     DIRE  23152391\n",
       "3  2012-06-29  StarSeries II Finals       EG  NEXT.kz  RADIANT  23160256\n",
       "4  2012-07-11         The Defense 2       EG  Unknown     DIRE  25449321\n",
       "5  2012-07-17        BTS World Tour       EG  Unknown  RADIANT  26658780\n",
       "6  2012-07-17        BTS World Tour  Unknown       EG     DIRE  26649858\n",
       "7  2012-07-19         The Defense 2       EG  Unknown  RADIANT  27042254\n",
       "8  2012-07-19         The Defense 2  Unknown       EG     DIRE  27051421\n",
       "9  2012-07-27         The Defense 2       EG  Unknown  RADIANT  28705062"
      ]
     },
     "execution_count": 18,
     "metadata": {},
     "output_type": "execute_result"
    }
   ],
   "source": [
    "data[:10]"
   ]
  },
  {
   "cell_type": "code",
   "execution_count": 20,
   "metadata": {
    "collapsed": false
   },
   "outputs": [
    {
     "ename": "ValueError",
     "evalue": "Lengths must match to compare",
     "output_type": "error",
     "traceback": [
      "\u001b[1;31m---------------------------------------------------------------------------\u001b[0m",
      "\u001b[1;31mValueError\u001b[0m                                Traceback (most recent call last)",
      "\u001b[1;32m<ipython-input-20-5017535b3e46>\u001b[0m in \u001b[0;36m<module>\u001b[1;34m()\u001b[0m\n\u001b[1;32m----> 1\u001b[1;33m \u001b[0mdata\u001b[0m\u001b[1;33m[\u001b[0m\u001b[0mdata\u001b[0m\u001b[1;33m.\u001b[0m\u001b[0mdire\u001b[0m \u001b[1;32min\u001b[0m \u001b[0mtarget_teams\u001b[0m \u001b[1;32mor\u001b[0m \u001b[0mdata\u001b[0m\u001b[1;33m.\u001b[0m\u001b[0mradiant\u001b[0m \u001b[1;32min\u001b[0m \u001b[0mtarget_teams\u001b[0m\u001b[1;33m]\u001b[0m\u001b[1;33m\u001b[0m\u001b[0m\n\u001b[0m",
      "\u001b[1;32m/home/anton/anaconda2/lib/python2.7/site-packages/pandas/core/ops.pyc\u001b[0m in \u001b[0;36mwrapper\u001b[1;34m(self, other, axis)\u001b[0m\n\u001b[0;32m    704\u001b[0m         \u001b[1;32melif\u001b[0m \u001b[0misinstance\u001b[0m\u001b[1;33m(\u001b[0m\u001b[0mother\u001b[0m\u001b[1;33m,\u001b[0m \u001b[1;33m(\u001b[0m\u001b[0mnp\u001b[0m\u001b[1;33m.\u001b[0m\u001b[0mndarray\u001b[0m\u001b[1;33m,\u001b[0m \u001b[0mpd\u001b[0m\u001b[1;33m.\u001b[0m\u001b[0mIndex\u001b[0m\u001b[1;33m)\u001b[0m\u001b[1;33m)\u001b[0m\u001b[1;33m:\u001b[0m\u001b[1;33m\u001b[0m\u001b[0m\n\u001b[0;32m    705\u001b[0m             \u001b[1;32mif\u001b[0m \u001b[0mlen\u001b[0m\u001b[1;33m(\u001b[0m\u001b[0mself\u001b[0m\u001b[1;33m)\u001b[0m \u001b[1;33m!=\u001b[0m \u001b[0mlen\u001b[0m\u001b[1;33m(\u001b[0m\u001b[0mother\u001b[0m\u001b[1;33m)\u001b[0m\u001b[1;33m:\u001b[0m\u001b[1;33m\u001b[0m\u001b[0m\n\u001b[1;32m--> 706\u001b[1;33m                 \u001b[1;32mraise\u001b[0m \u001b[0mValueError\u001b[0m\u001b[1;33m(\u001b[0m\u001b[1;34m'Lengths must match to compare'\u001b[0m\u001b[1;33m)\u001b[0m\u001b[1;33m\u001b[0m\u001b[0m\n\u001b[0m\u001b[0;32m    707\u001b[0m             return self._constructor(na_op(self.values, np.asarray(other)),\n\u001b[0;32m    708\u001b[0m                                      index=self.index).__finalize__(self)\n",
      "\u001b[1;31mValueError\u001b[0m: Lengths must match to compare"
     ]
    }
   ],
   "source": [
    "data[ or data.radiant in target_teams]"
   ]
  },
  {
   "cell_type": "code",
   "execution_count": 33,
   "metadata": {
    "collapsed": false
   },
   "outputs": [],
   "source": [
    "def asasa(team1, team2):\n",
    "    rd = data[data.dire == team1][data.radiant == team2]\n",
    "    dr = data[data.radiant == team2][data.dire == team1]\n",
    "\n",
    "    print(dr)\n",
    "    print(rd)"
   ]
  },
  {
   "cell_type": "code",
   "execution_count": 34,
   "metadata": {
    "collapsed": false
   },
   "outputs": [
    {
     "name": "stdout",
     "output_type": "stream",
     "text": [
      "            date                       tournament      radiant    dire winner  \\\n",
      "652   2014-07-08  The International 2014: Play in  MVP Phoenix  Liquid   DIRE   \n",
      "3113  2015-12-17                         WCA 2015  MVP Phoenix  Liquid   DIRE   \n",
      "3120  2015-12-17                         WCA 2015  MVP Phoenix  Liquid   DIRE   \n",
      "\n",
      "        match_id  \n",
      "652    765816652  \n",
      "3113  2008391627  \n",
      "3120  2008391627  \n",
      "            date                       tournament      radiant    dire winner  \\\n",
      "652   2014-07-08  The International 2014: Play in  MVP Phoenix  Liquid   DIRE   \n",
      "3113  2015-12-17                         WCA 2015  MVP Phoenix  Liquid   DIRE   \n",
      "3120  2015-12-17                         WCA 2015  MVP Phoenix  Liquid   DIRE   \n",
      "\n",
      "        match_id  \n",
      "652    765816652  \n",
      "3113  2008391627  \n",
      "3120  2008391627  \n"
     ]
    }
   ],
   "source": [
    "asasa('Liquid', 'MVP Phoenix')"
   ]
  },
  {
   "cell_type": "code",
   "execution_count": 3,
   "metadata": {
    "collapsed": false
   },
   "outputs": [
    {
     "data": {
      "text/html": [
       "<div>\n",
       "<table border=\"1\" class=\"dataframe\">\n",
       "  <thead>\n",
       "    <tr style=\"text-align: right;\">\n",
       "      <th></th>\n",
       "      <th>date</th>\n",
       "      <th>tournament</th>\n",
       "      <th>radiant</th>\n",
       "      <th>dire</th>\n",
       "      <th>winner</th>\n",
       "      <th>match_id</th>\n",
       "    </tr>\n",
       "  </thead>\n",
       "  <tbody>\n",
       "    <tr>\n",
       "      <th>3625</th>\n",
       "      <td>2016-02-17</td>\n",
       "      <td>WePlay 3 EU Qualifiers</td>\n",
       "      <td>TSpirit</td>\n",
       "      <td>FF</td>\n",
       "      <td>DIRE</td>\n",
       "      <td>2158987415</td>\n",
       "    </tr>\n",
       "  </tbody>\n",
       "</table>\n",
       "</div>"
      ],
      "text/plain": [
       "            date              tournament  radiant dire winner    match_id\n",
       "3625  2016-02-17  WePlay 3 EU Qualifiers  TSpirit   FF   DIRE  2158987415"
      ]
     },
     "execution_count": 3,
     "metadata": {},
     "output_type": "execute_result"
    }
   ],
   "source": [
    "data[-1:]"
   ]
  },
  {
   "cell_type": "code",
   "execution_count": null,
   "metadata": {
    "collapsed": true
   },
   "outputs": [],
   "source": []
  }
 ],
 "metadata": {
  "kernelspec": {
   "display_name": "Python 2",
   "language": "python",
   "name": "python2"
  },
  "language_info": {
   "codemirror_mode": {
    "name": "ipython",
    "version": 2
   },
   "file_extension": ".py",
   "mimetype": "text/x-python",
   "name": "python",
   "nbconvert_exporter": "python",
   "pygments_lexer": "ipython2",
   "version": "2.7.11"
  }
 },
 "nbformat": 4,
 "nbformat_minor": 0
}
